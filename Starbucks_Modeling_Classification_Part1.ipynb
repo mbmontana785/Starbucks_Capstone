{
 "cells": [
  {
   "cell_type": "markdown",
   "metadata": {},
   "source": [
    "# Starbucks Capstone (predict next purchase time)"
   ]
  },
  {
   "cell_type": "markdown",
   "metadata": {},
   "source": [
    "# Fixing a big mistake\n",
    "We originally had such good results with classification models (about 99.5 percent accuracy) that we toyed with regression to see if we could pinpoint the hour of the customer's next purchase. It then dawned on us that perhaps the reason the classification model was so accurate was that we actually put it into a time machine so it could literally see the future.<br>\n",
    "\n",
    "The features of our model, such as Recency, Frequency and Revenue, all were taken from the first 20 days of our 30-day timeline. The target variable then was derived by subtracting the hour of the last transaction in the first 20 days from the hour of the first transaction in the last 10 days.<br>\n",
    "\n",
    "That next_purchase target variable, then, was the only variable that had any awareness of what happened in the last 10 days of our timeline. For classification, we converted our target variable into next_purchase_range, grouping the customers by the hour of their next purchase. We also left in the former target variable, next_purchase. So in trying to predict the range within which the customer would make his or her next purchase, the model already knew the hour of the next purchase.<br>\n",
    "\n",
    "So while we have to backtrack, hopefully this narrows our focus on classification and gives us a clear path to the finish line of this project."
   ]
  },
  {
   "cell_type": "code",
   "execution_count": 333,
   "metadata": {},
   "outputs": [],
   "source": [
    "import pandas as pd\n",
    "import numpy as np\n",
    "import matplotlib.pyplot as plt\n",
    "import seaborn as sns\n",
    "import datetime\n",
    "import warnings # For handling error messages. \n",
    "warnings.simplefilter(action=\"ignore\", category=FutureWarning)\n",
    "warnings.filterwarnings(action=\"ignore\", module=\"scipy\", message=\"^internal gelsd\")"
   ]
  },
  {
   "cell_type": "code",
   "execution_count": 334,
   "metadata": {},
   "outputs": [],
   "source": [
    "sb_class = pd.read_csv('sb_class.csv')"
   ]
  },
  {
   "cell_type": "code",
   "execution_count": 335,
   "metadata": {},
   "outputs": [
    {
     "data": {
      "text/html": [
       "<div>\n",
       "<style scoped>\n",
       "    .dataframe tbody tr th:only-of-type {\n",
       "        vertical-align: middle;\n",
       "    }\n",
       "\n",
       "    .dataframe tbody tr th {\n",
       "        vertical-align: top;\n",
       "    }\n",
       "\n",
       "    .dataframe thead th {\n",
       "        text-align: right;\n",
       "    }\n",
       "</style>\n",
       "<table border=\"1\" class=\"dataframe\">\n",
       "  <thead>\n",
       "    <tr style=\"text-align: right;\">\n",
       "      <th></th>\n",
       "      <th>Unnamed: 0</th>\n",
       "      <th>person</th>\n",
       "      <th>next_purchase</th>\n",
       "      <th>Recency</th>\n",
       "      <th>RecencyCluster</th>\n",
       "      <th>Frequency</th>\n",
       "      <th>FrequencyCluster</th>\n",
       "      <th>Revenue</th>\n",
       "      <th>RevenueCluster</th>\n",
       "      <th>OverallScore</th>\n",
       "      <th>...</th>\n",
       "      <th>TimeDiffStd</th>\n",
       "      <th>age</th>\n",
       "      <th>member_time</th>\n",
       "      <th>income</th>\n",
       "      <th>gender_F</th>\n",
       "      <th>gender_M</th>\n",
       "      <th>Segment_High-Value</th>\n",
       "      <th>Segment_Low-Value</th>\n",
       "      <th>Segment_Mid-Value</th>\n",
       "      <th>next_purchase_range</th>\n",
       "    </tr>\n",
       "  </thead>\n",
       "  <tbody>\n",
       "    <tr>\n",
       "      <th>0</th>\n",
       "      <td>0</td>\n",
       "      <td>00426fe3ffde4c6b9cb9ad6d077a13ea</td>\n",
       "      <td>138.0</td>\n",
       "      <td>126</td>\n",
       "      <td>2</td>\n",
       "      <td>13</td>\n",
       "      <td>3</td>\n",
       "      <td>60.67</td>\n",
       "      <td>0</td>\n",
       "      <td>5</td>\n",
       "      <td>...</td>\n",
       "      <td>23.073007</td>\n",
       "      <td>19</td>\n",
       "      <td>716</td>\n",
       "      <td>65000.0</td>\n",
       "      <td>1</td>\n",
       "      <td>0</td>\n",
       "      <td>0</td>\n",
       "      <td>0</td>\n",
       "      <td>1</td>\n",
       "      <td>0</td>\n",
       "    </tr>\n",
       "    <tr>\n",
       "      <th>1</th>\n",
       "      <td>1</td>\n",
       "      <td>04189492f0aa46f2b6fefe34ffbc7062</td>\n",
       "      <td>108.0</td>\n",
       "      <td>66</td>\n",
       "      <td>2</td>\n",
       "      <td>12</td>\n",
       "      <td>3</td>\n",
       "      <td>45.07</td>\n",
       "      <td>0</td>\n",
       "      <td>5</td>\n",
       "      <td>...</td>\n",
       "      <td>16.815577</td>\n",
       "      <td>29</td>\n",
       "      <td>1685</td>\n",
       "      <td>64000.0</td>\n",
       "      <td>0</td>\n",
       "      <td>1</td>\n",
       "      <td>0</td>\n",
       "      <td>0</td>\n",
       "      <td>1</td>\n",
       "      <td>0</td>\n",
       "    </tr>\n",
       "    <tr>\n",
       "      <th>2</th>\n",
       "      <td>2</td>\n",
       "      <td>093f0c09cc7242228edbb0e52ca14af6</td>\n",
       "      <td>78.0</td>\n",
       "      <td>72</td>\n",
       "      <td>2</td>\n",
       "      <td>14</td>\n",
       "      <td>3</td>\n",
       "      <td>33.82</td>\n",
       "      <td>0</td>\n",
       "      <td>5</td>\n",
       "      <td>...</td>\n",
       "      <td>28.863072</td>\n",
       "      <td>36</td>\n",
       "      <td>404</td>\n",
       "      <td>35000.0</td>\n",
       "      <td>0</td>\n",
       "      <td>1</td>\n",
       "      <td>0</td>\n",
       "      <td>0</td>\n",
       "      <td>1</td>\n",
       "      <td>1</td>\n",
       "    </tr>\n",
       "    <tr>\n",
       "      <th>3</th>\n",
       "      <td>3</td>\n",
       "      <td>0b6c775f84a8435a9083900e1cb43ec9</td>\n",
       "      <td>90.0</td>\n",
       "      <td>72</td>\n",
       "      <td>2</td>\n",
       "      <td>15</td>\n",
       "      <td>3</td>\n",
       "      <td>39.69</td>\n",
       "      <td>0</td>\n",
       "      <td>5</td>\n",
       "      <td>...</td>\n",
       "      <td>21.105699</td>\n",
       "      <td>27</td>\n",
       "      <td>259</td>\n",
       "      <td>35000.0</td>\n",
       "      <td>0</td>\n",
       "      <td>1</td>\n",
       "      <td>0</td>\n",
       "      <td>0</td>\n",
       "      <td>1</td>\n",
       "      <td>1</td>\n",
       "    </tr>\n",
       "    <tr>\n",
       "      <th>4</th>\n",
       "      <td>4</td>\n",
       "      <td>1280b4c8aa2a47dbbc1a7c79d0c9484d</td>\n",
       "      <td>102.0</td>\n",
       "      <td>72</td>\n",
       "      <td>2</td>\n",
       "      <td>11</td>\n",
       "      <td>3</td>\n",
       "      <td>49.97</td>\n",
       "      <td>0</td>\n",
       "      <td>5</td>\n",
       "      <td>...</td>\n",
       "      <td>40.024992</td>\n",
       "      <td>48</td>\n",
       "      <td>1526</td>\n",
       "      <td>42000.0</td>\n",
       "      <td>0</td>\n",
       "      <td>1</td>\n",
       "      <td>0</td>\n",
       "      <td>0</td>\n",
       "      <td>1</td>\n",
       "      <td>0</td>\n",
       "    </tr>\n",
       "  </tbody>\n",
       "</table>\n",
       "<p>5 rows × 24 columns</p>\n",
       "</div>"
      ],
      "text/plain": [
       "   Unnamed: 0                            person  next_purchase  Recency  \\\n",
       "0           0  00426fe3ffde4c6b9cb9ad6d077a13ea          138.0      126   \n",
       "1           1  04189492f0aa46f2b6fefe34ffbc7062          108.0       66   \n",
       "2           2  093f0c09cc7242228edbb0e52ca14af6           78.0       72   \n",
       "3           3  0b6c775f84a8435a9083900e1cb43ec9           90.0       72   \n",
       "4           4  1280b4c8aa2a47dbbc1a7c79d0c9484d          102.0       72   \n",
       "\n",
       "   RecencyCluster  Frequency  FrequencyCluster  Revenue  RevenueCluster  \\\n",
       "0               2         13                 3    60.67               0   \n",
       "1               2         12                 3    45.07               0   \n",
       "2               2         14                 3    33.82               0   \n",
       "3               2         15                 3    39.69               0   \n",
       "4               2         11                 3    49.97               0   \n",
       "\n",
       "   OverallScore  ...  TimeDiffStd  age  member_time   income  gender_F  \\\n",
       "0             5  ...    23.073007   19          716  65000.0         1   \n",
       "1             5  ...    16.815577   29         1685  64000.0         0   \n",
       "2             5  ...    28.863072   36          404  35000.0         0   \n",
       "3             5  ...    21.105699   27          259  35000.0         0   \n",
       "4             5  ...    40.024992   48         1526  42000.0         0   \n",
       "\n",
       "   gender_M  Segment_High-Value  Segment_Low-Value  Segment_Mid-Value  \\\n",
       "0         0                   0                  0                  1   \n",
       "1         1                   0                  0                  1   \n",
       "2         1                   0                  0                  1   \n",
       "3         1                   0                  0                  1   \n",
       "4         1                   0                  0                  1   \n",
       "\n",
       "   next_purchase_range  \n",
       "0                    0  \n",
       "1                    0  \n",
       "2                    1  \n",
       "3                    1  \n",
       "4                    0  \n",
       "\n",
       "[5 rows x 24 columns]"
      ]
     },
     "execution_count": 335,
     "metadata": {},
     "output_type": "execute_result"
    }
   ],
   "source": [
    "sb_class.head()"
   ]
  },
  {
   "cell_type": "code",
   "execution_count": 336,
   "metadata": {},
   "outputs": [
    {
     "name": "stdout",
     "output_type": "stream",
     "text": [
      "<class 'pandas.core.frame.DataFrame'>\n",
      "RangeIndex: 9130 entries, 0 to 9129\n",
      "Data columns (total 24 columns):\n",
      " #   Column               Non-Null Count  Dtype  \n",
      "---  ------               --------------  -----  \n",
      " 0   Unnamed: 0           9130 non-null   int64  \n",
      " 1   person               9130 non-null   object \n",
      " 2   next_purchase        9130 non-null   float64\n",
      " 3   Recency              9130 non-null   int64  \n",
      " 4   RecencyCluster       9130 non-null   int64  \n",
      " 5   Frequency            9130 non-null   int64  \n",
      " 6   FrequencyCluster     9130 non-null   int64  \n",
      " 7   Revenue              9130 non-null   float64\n",
      " 8   RevenueCluster       9130 non-null   int64  \n",
      " 9   OverallScore         9130 non-null   int64  \n",
      " 10  TimeDiff             9130 non-null   float64\n",
      " 11  TimeDiff2            9130 non-null   float64\n",
      " 12  TimeDiff3            9130 non-null   float64\n",
      " 13  TimeDiffMean         9130 non-null   float64\n",
      " 14  TimeDiffStd          9130 non-null   float64\n",
      " 15  age                  9130 non-null   int64  \n",
      " 16  member_time          9130 non-null   int64  \n",
      " 17  income               9130 non-null   float64\n",
      " 18  gender_F             9130 non-null   int64  \n",
      " 19  gender_M             9130 non-null   int64  \n",
      " 20  Segment_High-Value   9130 non-null   int64  \n",
      " 21  Segment_Low-Value    9130 non-null   int64  \n",
      " 22  Segment_Mid-Value    9130 non-null   int64  \n",
      " 23  next_purchase_range  9130 non-null   int64  \n",
      "dtypes: float64(8), int64(15), object(1)\n",
      "memory usage: 1.7+ MB\n"
     ]
    }
   ],
   "source": [
    "sb_class.info()"
   ]
  },
  {
   "cell_type": "code",
   "execution_count": 337,
   "metadata": {},
   "outputs": [],
   "source": [
    "sb_class.drop(columns = ['Unnamed: 0'], inplace = True)"
   ]
  },
  {
   "cell_type": "markdown",
   "metadata": {},
   "source": [
    "# Histogram\n",
    "Let's look at a histogram of all the features. It looks like RecencyCluster and RevenueCluster have unbalanced classes. We'll take a closer look at those."
   ]
  },
  {
   "cell_type": "code",
   "execution_count": 338,
   "metadata": {},
   "outputs": [
    {
     "data": {
      "image/png": "[encoded data removed]",
      "text/plain": [
       "<Figure size 1440x2880 with 24 Axes>"
      ]
     },
     "metadata": {},
     "output_type": "display_data"
    }
   ],
   "source": [
    "sb_class.hist(layout=(6, 4), figsize=(20,40), bins = 30)\n",
    "plt.subplots_adjust(hspace=1)\n",
    "plt.show()"
   ]
  },
  {
   "cell_type": "markdown",
   "metadata": {},
   "source": [
    "These next few cells will show that customer recency is one thing we have going for us while those high-revenue customers really are in an elite class."
   ]
  },
  {
   "cell_type": "code",
   "execution_count": 339,
   "metadata": {},
   "outputs": [
    {
     "data": {
      "text/plain": [
       "3    5982\n",
       "2    2388\n",
       "1     680\n",
       "0      80\n",
       "Name: RecencyCluster, dtype: int64"
      ]
     },
     "execution_count": 339,
     "metadata": {},
     "output_type": "execute_result"
    }
   ],
   "source": [
    "sb_class['RecencyCluster'].value_counts()"
   ]
  },
  {
   "cell_type": "code",
   "execution_count": 340,
   "metadata": {},
   "outputs": [],
   "source": [
    "zero_recency = sb_class[sb_class['RecencyCluster'] == 0]"
   ]
  },
  {
   "cell_type": "code",
   "execution_count": 341,
   "metadata": {},
   "outputs": [
    {
     "name": "stdout",
     "output_type": "stream",
     "text": [
      "<class 'pandas.core.frame.DataFrame'>\n",
      "Int64Index: 80 entries, 1322 to 8533\n",
      "Data columns (total 23 columns):\n",
      " #   Column               Non-Null Count  Dtype  \n",
      "---  ------               --------------  -----  \n",
      " 0   person               80 non-null     object \n",
      " 1   next_purchase        80 non-null     float64\n",
      " 2   Recency              80 non-null     int64  \n",
      " 3   RecencyCluster       80 non-null     int64  \n",
      " 4   Frequency            80 non-null     int64  \n",
      " 5   FrequencyCluster     80 non-null     int64  \n",
      " 6   Revenue              80 non-null     float64\n",
      " 7   RevenueCluster       80 non-null     int64  \n",
      " 8   OverallScore         80 non-null     int64  \n",
      " 9   TimeDiff             80 non-null     float64\n",
      " 10  TimeDiff2            80 non-null     float64\n",
      " 11  TimeDiff3            80 non-null     float64\n",
      " 12  TimeDiffMean         80 non-null     float64\n",
      " 13  TimeDiffStd          80 non-null     float64\n",
      " 14  age                  80 non-null     int64  \n",
      " 15  member_time          80 non-null     int64  \n",
      " 16  income               80 non-null     float64\n",
      " 17  gender_F             80 non-null     int64  \n",
      " 18  gender_M             80 non-null     int64  \n",
      " 19  Segment_High-Value   80 non-null     int64  \n",
      " 20  Segment_Low-Value    80 non-null     int64  \n",
      " 21  Segment_Mid-Value    80 non-null     int64  \n",
      " 22  next_purchase_range  80 non-null     int64  \n",
      "dtypes: float64(8), int64(14), object(1)\n",
      "memory usage: 15.0+ KB\n"
     ]
    }
   ],
   "source": [
    "zero_recency.info()"
   ]
  },
  {
   "cell_type": "code",
   "execution_count": 342,
   "metadata": {},
   "outputs": [
    {
     "data": {
      "text/html": [
       "<div>\n",
       "<style scoped>\n",
       "    .dataframe tbody tr th:only-of-type {\n",
       "        vertical-align: middle;\n",
       "    }\n",
       "\n",
       "    .dataframe tbody tr th {\n",
       "        vertical-align: top;\n",
       "    }\n",
       "\n",
       "    .dataframe thead th {\n",
       "        text-align: right;\n",
       "    }\n",
       "</style>\n",
       "<table border=\"1\" class=\"dataframe\">\n",
       "  <thead>\n",
       "    <tr style=\"text-align: right;\">\n",
       "      <th></th>\n",
       "      <th>next_purchase</th>\n",
       "      <th>Recency</th>\n",
       "      <th>RecencyCluster</th>\n",
       "      <th>Frequency</th>\n",
       "      <th>FrequencyCluster</th>\n",
       "      <th>Revenue</th>\n",
       "      <th>RevenueCluster</th>\n",
       "      <th>OverallScore</th>\n",
       "      <th>TimeDiff</th>\n",
       "      <th>TimeDiff2</th>\n",
       "      <th>...</th>\n",
       "      <th>TimeDiffStd</th>\n",
       "      <th>age</th>\n",
       "      <th>member_time</th>\n",
       "      <th>income</th>\n",
       "      <th>gender_F</th>\n",
       "      <th>gender_M</th>\n",
       "      <th>Segment_High-Value</th>\n",
       "      <th>Segment_Low-Value</th>\n",
       "      <th>Segment_Mid-Value</th>\n",
       "      <th>next_purchase_range</th>\n",
       "    </tr>\n",
       "  </thead>\n",
       "  <tbody>\n",
       "    <tr>\n",
       "      <th>count</th>\n",
       "      <td>80.000000</td>\n",
       "      <td>80.000000</td>\n",
       "      <td>80.0</td>\n",
       "      <td>80.000000</td>\n",
       "      <td>80.000000</td>\n",
       "      <td>80.00000</td>\n",
       "      <td>80.000000</td>\n",
       "      <td>80.000000</td>\n",
       "      <td>80.000000</td>\n",
       "      <td>80.000000</td>\n",
       "      <td>...</td>\n",
       "      <td>80.000000</td>\n",
       "      <td>80.000000</td>\n",
       "      <td>80.000000</td>\n",
       "      <td>80.000000</td>\n",
       "      <td>80.000000</td>\n",
       "      <td>80.000000</td>\n",
       "      <td>80.0</td>\n",
       "      <td>80.000000</td>\n",
       "      <td>80.000000</td>\n",
       "      <td>80.0</td>\n",
       "    </tr>\n",
       "    <tr>\n",
       "      <th>mean</th>\n",
       "      <td>335.862500</td>\n",
       "      <td>275.475000</td>\n",
       "      <td>0.0</td>\n",
       "      <td>4.787500</td>\n",
       "      <td>1.112500</td>\n",
       "      <td>73.37700</td>\n",
       "      <td>0.637500</td>\n",
       "      <td>1.750000</td>\n",
       "      <td>44.925000</td>\n",
       "      <td>80.775000</td>\n",
       "      <td>...</td>\n",
       "      <td>32.692156</td>\n",
       "      <td>56.087500</td>\n",
       "      <td>521.775000</td>\n",
       "      <td>68312.500000</td>\n",
       "      <td>0.512500</td>\n",
       "      <td>0.487500</td>\n",
       "      <td>0.0</td>\n",
       "      <td>0.962500</td>\n",
       "      <td>0.037500</td>\n",
       "      <td>0.0</td>\n",
       "    </tr>\n",
       "    <tr>\n",
       "      <th>std</th>\n",
       "      <td>65.688514</td>\n",
       "      <td>31.216263</td>\n",
       "      <td>0.0</td>\n",
       "      <td>1.299403</td>\n",
       "      <td>0.317974</td>\n",
       "      <td>50.78719</td>\n",
       "      <td>0.641275</td>\n",
       "      <td>0.754732</td>\n",
       "      <td>38.150858</td>\n",
       "      <td>44.777361</td>\n",
       "      <td>...</td>\n",
       "      <td>17.800505</td>\n",
       "      <td>17.019121</td>\n",
       "      <td>370.115274</td>\n",
       "      <td>22946.604917</td>\n",
       "      <td>0.502997</td>\n",
       "      <td>0.502997</td>\n",
       "      <td>0.0</td>\n",
       "      <td>0.191182</td>\n",
       "      <td>0.191182</td>\n",
       "      <td>0.0</td>\n",
       "    </tr>\n",
       "    <tr>\n",
       "      <th>min</th>\n",
       "      <td>252.000000</td>\n",
       "      <td>246.000000</td>\n",
       "      <td>0.0</td>\n",
       "      <td>4.000000</td>\n",
       "      <td>1.000000</td>\n",
       "      <td>7.03000</td>\n",
       "      <td>0.000000</td>\n",
       "      <td>1.000000</td>\n",
       "      <td>6.000000</td>\n",
       "      <td>18.000000</td>\n",
       "      <td>...</td>\n",
       "      <td>6.000000</td>\n",
       "      <td>18.000000</td>\n",
       "      <td>30.000000</td>\n",
       "      <td>31000.000000</td>\n",
       "      <td>0.000000</td>\n",
       "      <td>0.000000</td>\n",
       "      <td>0.0</td>\n",
       "      <td>0.000000</td>\n",
       "      <td>0.000000</td>\n",
       "      <td>0.0</td>\n",
       "    </tr>\n",
       "    <tr>\n",
       "      <th>25%</th>\n",
       "      <td>294.000000</td>\n",
       "      <td>252.000000</td>\n",
       "      <td>0.0</td>\n",
       "      <td>4.000000</td>\n",
       "      <td>1.000000</td>\n",
       "      <td>19.99000</td>\n",
       "      <td>0.000000</td>\n",
       "      <td>1.000000</td>\n",
       "      <td>12.000000</td>\n",
       "      <td>48.000000</td>\n",
       "      <td>...</td>\n",
       "      <td>18.513207</td>\n",
       "      <td>45.750000</td>\n",
       "      <td>185.000000</td>\n",
       "      <td>49750.000000</td>\n",
       "      <td>0.000000</td>\n",
       "      <td>0.000000</td>\n",
       "      <td>0.0</td>\n",
       "      <td>1.000000</td>\n",
       "      <td>0.000000</td>\n",
       "      <td>0.0</td>\n",
       "    </tr>\n",
       "    <tr>\n",
       "      <th>50%</th>\n",
       "      <td>324.000000</td>\n",
       "      <td>264.000000</td>\n",
       "      <td>0.0</td>\n",
       "      <td>4.000000</td>\n",
       "      <td>1.000000</td>\n",
       "      <td>71.67000</td>\n",
       "      <td>1.000000</td>\n",
       "      <td>2.000000</td>\n",
       "      <td>30.000000</td>\n",
       "      <td>72.000000</td>\n",
       "      <td>...</td>\n",
       "      <td>28.782241</td>\n",
       "      <td>57.000000</td>\n",
       "      <td>363.500000</td>\n",
       "      <td>69500.000000</td>\n",
       "      <td>1.000000</td>\n",
       "      <td>0.000000</td>\n",
       "      <td>0.0</td>\n",
       "      <td>1.000000</td>\n",
       "      <td>0.000000</td>\n",
       "      <td>0.0</td>\n",
       "    </tr>\n",
       "    <tr>\n",
       "      <th>75%</th>\n",
       "      <td>361.500000</td>\n",
       "      <td>288.000000</td>\n",
       "      <td>0.0</td>\n",
       "      <td>5.000000</td>\n",
       "      <td>1.000000</td>\n",
       "      <td>104.45750</td>\n",
       "      <td>1.000000</td>\n",
       "      <td>2.000000</td>\n",
       "      <td>72.000000</td>\n",
       "      <td>108.000000</td>\n",
       "      <td>...</td>\n",
       "      <td>42.035654</td>\n",
       "      <td>68.000000</td>\n",
       "      <td>769.250000</td>\n",
       "      <td>85500.000000</td>\n",
       "      <td>1.000000</td>\n",
       "      <td>1.000000</td>\n",
       "      <td>0.0</td>\n",
       "      <td>1.000000</td>\n",
       "      <td>0.000000</td>\n",
       "      <td>0.0</td>\n",
       "    </tr>\n",
       "    <tr>\n",
       "      <th>max</th>\n",
       "      <td>679.000000</td>\n",
       "      <td>390.000000</td>\n",
       "      <td>0.0</td>\n",
       "      <td>10.000000</td>\n",
       "      <td>2.000000</td>\n",
       "      <td>198.91000</td>\n",
       "      <td>2.000000</td>\n",
       "      <td>4.000000</td>\n",
       "      <td>156.000000</td>\n",
       "      <td>204.000000</td>\n",
       "      <td>...</td>\n",
       "      <td>80.572948</td>\n",
       "      <td>94.000000</td>\n",
       "      <td>1573.000000</td>\n",
       "      <td>119000.000000</td>\n",
       "      <td>1.000000</td>\n",
       "      <td>1.000000</td>\n",
       "      <td>0.0</td>\n",
       "      <td>1.000000</td>\n",
       "      <td>1.000000</td>\n",
       "      <td>0.0</td>\n",
       "    </tr>\n",
       "  </tbody>\n",
       "</table>\n",
       "<p>8 rows × 22 columns</p>\n",
       "</div>"
      ],
      "text/plain": [
       "       next_purchase     Recency  RecencyCluster  Frequency  FrequencyCluster  \\\n",
       "count      80.000000   80.000000            80.0  80.000000         80.000000   \n",
       "mean      335.862500  275.475000             0.0   4.787500          1.112500   \n",
       "std        65.688514   31.216263             0.0   1.299403          0.317974   \n",
       "min       252.000000  246.000000             0.0   4.000000          1.000000   \n",
       "25%       294.000000  252.000000             0.0   4.000000          1.000000   \n",
       "50%       324.000000  264.000000             0.0   4.000000          1.000000   \n",
       "75%       361.500000  288.000000             0.0   5.000000          1.000000   \n",
       "max       679.000000  390.000000             0.0  10.000000          2.000000   \n",
       "\n",
       "         Revenue  RevenueCluster  OverallScore    TimeDiff   TimeDiff2  ...  \\\n",
       "count   80.00000       80.000000     80.000000   80.000000   80.000000  ...   \n",
       "mean    73.37700        0.637500      1.750000   44.925000   80.775000  ...   \n",
       "std     50.78719        0.641275      0.754732   38.150858   44.777361  ...   \n",
       "min      7.03000        0.000000      1.000000    6.000000   18.000000  ...   \n",
       "25%     19.99000        0.000000      1.000000   12.000000   48.000000  ...   \n",
       "50%     71.67000        1.000000      2.000000   30.000000   72.000000  ...   \n",
       "75%    104.45750        1.000000      2.000000   72.000000  108.000000  ...   \n",
       "max    198.91000        2.000000      4.000000  156.000000  204.000000  ...   \n",
       "\n",
       "       TimeDiffStd        age  member_time         income   gender_F  \\\n",
       "count    80.000000  80.000000    80.000000      80.000000  80.000000   \n",
       "mean     32.692156  56.087500   521.775000   68312.500000   0.512500   \n",
       "std      17.800505  17.019121   370.115274   22946.604917   0.502997   \n",
       "min       6.000000  18.000000    30.000000   31000.000000   0.000000   \n",
       "25%      18.513207  45.750000   185.000000   49750.000000   0.000000   \n",
       "50%      28.782241  57.000000   363.500000   69500.000000   1.000000   \n",
       "75%      42.035654  68.000000   769.250000   85500.000000   1.000000   \n",
       "max      80.572948  94.000000  1573.000000  119000.000000   1.000000   \n",
       "\n",
       "        gender_M  Segment_High-Value  Segment_Low-Value  Segment_Mid-Value  \\\n",
       "count  80.000000                80.0          80.000000          80.000000   \n",
       "mean    0.487500                 0.0           0.962500           0.037500   \n",
       "std     0.502997                 0.0           0.191182           0.191182   \n",
       "min     0.000000                 0.0           0.000000           0.000000   \n",
       "25%     0.000000                 0.0           1.000000           0.000000   \n",
       "50%     0.000000                 0.0           1.000000           0.000000   \n",
       "75%     1.000000                 0.0           1.000000           0.000000   \n",
       "max     1.000000                 0.0           1.000000           1.000000   \n",
       "\n",
       "       next_purchase_range  \n",
       "count                 80.0  \n",
       "mean                   0.0  \n",
       "std                    0.0  \n",
       "min                    0.0  \n",
       "25%                    0.0  \n",
       "50%                    0.0  \n",
       "75%                    0.0  \n",
       "max                    0.0  \n",
       "\n",
       "[8 rows x 22 columns]"
      ]
     },
     "execution_count": 342,
     "metadata": {},
     "output_type": "execute_result"
    }
   ],
   "source": [
    "zero_recency.describe()"
   ]
  },
  {
   "cell_type": "code",
   "execution_count": 343,
   "metadata": {},
   "outputs": [],
   "source": [
    "best_recency = sb_class[sb_class['RecencyCluster'] == 3]"
   ]
  },
  {
   "cell_type": "code",
   "execution_count": 344,
   "metadata": {},
   "outputs": [
    {
     "data": {
      "text/html": [
       "<div>\n",
       "<style scoped>\n",
       "    .dataframe tbody tr th:only-of-type {\n",
       "        vertical-align: middle;\n",
       "    }\n",
       "\n",
       "    .dataframe tbody tr th {\n",
       "        vertical-align: top;\n",
       "    }\n",
       "\n",
       "    .dataframe thead th {\n",
       "        text-align: right;\n",
       "    }\n",
       "</style>\n",
       "<table border=\"1\" class=\"dataframe\">\n",
       "  <thead>\n",
       "    <tr style=\"text-align: right;\">\n",
       "      <th></th>\n",
       "      <th>next_purchase</th>\n",
       "      <th>Recency</th>\n",
       "      <th>RecencyCluster</th>\n",
       "      <th>Frequency</th>\n",
       "      <th>FrequencyCluster</th>\n",
       "      <th>Revenue</th>\n",
       "      <th>RevenueCluster</th>\n",
       "      <th>OverallScore</th>\n",
       "      <th>TimeDiff</th>\n",
       "      <th>TimeDiff2</th>\n",
       "      <th>...</th>\n",
       "      <th>TimeDiffStd</th>\n",
       "      <th>age</th>\n",
       "      <th>member_time</th>\n",
       "      <th>income</th>\n",
       "      <th>gender_F</th>\n",
       "      <th>gender_M</th>\n",
       "      <th>Segment_High-Value</th>\n",
       "      <th>Segment_Low-Value</th>\n",
       "      <th>Segment_Mid-Value</th>\n",
       "      <th>next_purchase_range</th>\n",
       "    </tr>\n",
       "  </thead>\n",
       "  <tbody>\n",
       "    <tr>\n",
       "      <th>count</th>\n",
       "      <td>5982.000000</td>\n",
       "      <td>5982.000000</td>\n",
       "      <td>5982.0</td>\n",
       "      <td>5982.000000</td>\n",
       "      <td>5982.000000</td>\n",
       "      <td>5982.000000</td>\n",
       "      <td>5982.000000</td>\n",
       "      <td>5982.000000</td>\n",
       "      <td>5982.000000</td>\n",
       "      <td>5982.000000</td>\n",
       "      <td>...</td>\n",
       "      <td>5982.000000</td>\n",
       "      <td>5982.000000</td>\n",
       "      <td>5982.000000</td>\n",
       "      <td>5982.000000</td>\n",
       "      <td>5982.000000</td>\n",
       "      <td>5982.000000</td>\n",
       "      <td>5982.000000</td>\n",
       "      <td>5982.0</td>\n",
       "      <td>5982.000000</td>\n",
       "      <td>5982.000000</td>\n",
       "    </tr>\n",
       "    <tr>\n",
       "      <th>mean</th>\n",
       "      <td>101.867603</td>\n",
       "      <td>19.224674</td>\n",
       "      <td>3.0</td>\n",
       "      <td>7.757606</td>\n",
       "      <td>1.748579</td>\n",
       "      <td>101.218572</td>\n",
       "      <td>0.794885</td>\n",
       "      <td>5.543464</td>\n",
       "      <td>59.829488</td>\n",
       "      <td>123.200602</td>\n",
       "      <td>...</td>\n",
       "      <td>56.876824</td>\n",
       "      <td>52.907222</td>\n",
       "      <td>650.588599</td>\n",
       "      <td>62099.799398</td>\n",
       "      <td>0.417419</td>\n",
       "      <td>0.582581</td>\n",
       "      <td>0.206787</td>\n",
       "      <td>0.0</td>\n",
       "      <td>0.793213</td>\n",
       "      <td>1.053327</td>\n",
       "    </tr>\n",
       "    <tr>\n",
       "      <th>std</th>\n",
       "      <td>128.170654</td>\n",
       "      <td>14.959121</td>\n",
       "      <td>0.0</td>\n",
       "      <td>3.315352</td>\n",
       "      <td>0.755945</td>\n",
       "      <td>103.322613</td>\n",
       "      <td>0.757874</td>\n",
       "      <td>1.149151</td>\n",
       "      <td>61.490523</td>\n",
       "      <td>90.728097</td>\n",
       "      <td>...</td>\n",
       "      <td>30.054278</td>\n",
       "      <td>17.855106</td>\n",
       "      <td>430.701387</td>\n",
       "      <td>20492.773284</td>\n",
       "      <td>0.493174</td>\n",
       "      <td>0.493174</td>\n",
       "      <td>0.405035</td>\n",
       "      <td>0.0</td>\n",
       "      <td>0.405035</td>\n",
       "      <td>0.821667</td>\n",
       "    </tr>\n",
       "    <tr>\n",
       "      <th>min</th>\n",
       "      <td>6.000000</td>\n",
       "      <td>0.000000</td>\n",
       "      <td>3.0</td>\n",
       "      <td>4.000000</td>\n",
       "      <td>1.000000</td>\n",
       "      <td>2.270000</td>\n",
       "      <td>0.000000</td>\n",
       "      <td>4.000000</td>\n",
       "      <td>6.000000</td>\n",
       "      <td>12.000000</td>\n",
       "      <td>...</td>\n",
       "      <td>3.464102</td>\n",
       "      <td>18.000000</td>\n",
       "      <td>0.000000</td>\n",
       "      <td>30000.000000</td>\n",
       "      <td>0.000000</td>\n",
       "      <td>0.000000</td>\n",
       "      <td>0.000000</td>\n",
       "      <td>0.0</td>\n",
       "      <td>0.000000</td>\n",
       "      <td>0.000000</td>\n",
       "    </tr>\n",
       "    <tr>\n",
       "      <th>25%</th>\n",
       "      <td>36.000000</td>\n",
       "      <td>6.000000</td>\n",
       "      <td>3.0</td>\n",
       "      <td>5.000000</td>\n",
       "      <td>1.000000</td>\n",
       "      <td>35.410000</td>\n",
       "      <td>0.000000</td>\n",
       "      <td>5.000000</td>\n",
       "      <td>18.000000</td>\n",
       "      <td>48.000000</td>\n",
       "      <td>...</td>\n",
       "      <td>35.156792</td>\n",
       "      <td>40.000000</td>\n",
       "      <td>295.250000</td>\n",
       "      <td>46000.000000</td>\n",
       "      <td>0.000000</td>\n",
       "      <td>0.000000</td>\n",
       "      <td>0.000000</td>\n",
       "      <td>0.0</td>\n",
       "      <td>1.000000</td>\n",
       "      <td>0.000000</td>\n",
       "    </tr>\n",
       "    <tr>\n",
       "      <th>50%</th>\n",
       "      <td>66.000000</td>\n",
       "      <td>18.000000</td>\n",
       "      <td>3.0</td>\n",
       "      <td>7.000000</td>\n",
       "      <td>2.000000</td>\n",
       "      <td>85.905000</td>\n",
       "      <td>1.000000</td>\n",
       "      <td>5.000000</td>\n",
       "      <td>36.000000</td>\n",
       "      <td>96.000000</td>\n",
       "      <td>...</td>\n",
       "      <td>51.029403</td>\n",
       "      <td>54.000000</td>\n",
       "      <td>588.000000</td>\n",
       "      <td>60000.000000</td>\n",
       "      <td>0.000000</td>\n",
       "      <td>1.000000</td>\n",
       "      <td>0.000000</td>\n",
       "      <td>0.0</td>\n",
       "      <td>1.000000</td>\n",
       "      <td>1.000000</td>\n",
       "    </tr>\n",
       "    <tr>\n",
       "      <th>75%</th>\n",
       "      <td>114.000000</td>\n",
       "      <td>30.000000</td>\n",
       "      <td>3.0</td>\n",
       "      <td>10.000000</td>\n",
       "      <td>2.000000</td>\n",
       "      <td>133.395000</td>\n",
       "      <td>1.000000</td>\n",
       "      <td>6.000000</td>\n",
       "      <td>78.000000</td>\n",
       "      <td>180.000000</td>\n",
       "      <td>...</td>\n",
       "      <td>71.655423</td>\n",
       "      <td>66.000000</td>\n",
       "      <td>926.000000</td>\n",
       "      <td>74000.000000</td>\n",
       "      <td>1.000000</td>\n",
       "      <td>1.000000</td>\n",
       "      <td>0.000000</td>\n",
       "      <td>0.0</td>\n",
       "      <td>1.000000</td>\n",
       "      <td>2.000000</td>\n",
       "    </tr>\n",
       "    <tr>\n",
       "      <th>max</th>\n",
       "      <td>679.000000</td>\n",
       "      <td>48.000000</td>\n",
       "      <td>3.0</td>\n",
       "      <td>26.000000</td>\n",
       "      <td>3.000000</td>\n",
       "      <td>1226.790000</td>\n",
       "      <td>3.000000</td>\n",
       "      <td>9.000000</td>\n",
       "      <td>390.000000</td>\n",
       "      <td>444.000000</td>\n",
       "      <td>...</td>\n",
       "      <td>246.024389</td>\n",
       "      <td>101.000000</td>\n",
       "      <td>1823.000000</td>\n",
       "      <td>120000.000000</td>\n",
       "      <td>1.000000</td>\n",
       "      <td>1.000000</td>\n",
       "      <td>1.000000</td>\n",
       "      <td>0.0</td>\n",
       "      <td>1.000000</td>\n",
       "      <td>2.000000</td>\n",
       "    </tr>\n",
       "  </tbody>\n",
       "</table>\n",
       "<p>8 rows × 22 columns</p>\n",
       "</div>"
      ],
      "text/plain": [
       "       next_purchase      Recency  RecencyCluster    Frequency  \\\n",
       "count    5982.000000  5982.000000          5982.0  5982.000000   \n",
       "mean      101.867603    19.224674             3.0     7.757606   \n",
       "std       128.170654    14.959121             0.0     3.315352   \n",
       "min         6.000000     0.000000             3.0     4.000000   \n",
       "25%        36.000000     6.000000             3.0     5.000000   \n",
       "50%        66.000000    18.000000             3.0     7.000000   \n",
       "75%       114.000000    30.000000             3.0    10.000000   \n",
       "max       679.000000    48.000000             3.0    26.000000   \n",
       "\n",
       "       FrequencyCluster      Revenue  RevenueCluster  OverallScore  \\\n",
       "count       5982.000000  5982.000000     5982.000000   5982.000000   \n",
       "mean           1.748579   101.218572        0.794885      5.543464   \n",
       "std            0.755945   103.322613        0.757874      1.149151   \n",
       "min            1.000000     2.270000        0.000000      4.000000   \n",
       "25%            1.000000    35.410000        0.000000      5.000000   \n",
       "50%            2.000000    85.905000        1.000000      5.000000   \n",
       "75%            2.000000   133.395000        1.000000      6.000000   \n",
       "max            3.000000  1226.790000        3.000000      9.000000   \n",
       "\n",
       "          TimeDiff    TimeDiff2  ...  TimeDiffStd          age  member_time  \\\n",
       "count  5982.000000  5982.000000  ...  5982.000000  5982.000000  5982.000000   \n",
       "mean     59.829488   123.200602  ...    56.876824    52.907222   650.588599   \n",
       "std      61.490523    90.728097  ...    30.054278    17.855106   430.701387   \n",
       "min       6.000000    12.000000  ...     3.464102    18.000000     0.000000   \n",
       "25%      18.000000    48.000000  ...    35.156792    40.000000   295.250000   \n",
       "50%      36.000000    96.000000  ...    51.029403    54.000000   588.000000   \n",
       "75%      78.000000   180.000000  ...    71.655423    66.000000   926.000000   \n",
       "max     390.000000   444.000000  ...   246.024389   101.000000  1823.000000   \n",
       "\n",
       "              income     gender_F     gender_M  Segment_High-Value  \\\n",
       "count    5982.000000  5982.000000  5982.000000         5982.000000   \n",
       "mean    62099.799398     0.417419     0.582581            0.206787   \n",
       "std     20492.773284     0.493174     0.493174            0.405035   \n",
       "min     30000.000000     0.000000     0.000000            0.000000   \n",
       "25%     46000.000000     0.000000     0.000000            0.000000   \n",
       "50%     60000.000000     0.000000     1.000000            0.000000   \n",
       "75%     74000.000000     1.000000     1.000000            0.000000   \n",
       "max    120000.000000     1.000000     1.000000            1.000000   \n",
       "\n",
       "       Segment_Low-Value  Segment_Mid-Value  next_purchase_range  \n",
       "count             5982.0        5982.000000          5982.000000  \n",
       "mean                 0.0           0.793213             1.053327  \n",
       "std                  0.0           0.405035             0.821667  \n",
       "min                  0.0           0.000000             0.000000  \n",
       "25%                  0.0           1.000000             0.000000  \n",
       "50%                  0.0           1.000000             1.000000  \n",
       "75%                  0.0           1.000000             2.000000  \n",
       "max                  0.0           1.000000             2.000000  \n",
       "\n",
       "[8 rows x 22 columns]"
      ]
     },
     "execution_count": 344,
     "metadata": {},
     "output_type": "execute_result"
    }
   ],
   "source": [
    "best_recency.describe()"
   ]
  },
  {
   "cell_type": "code",
   "execution_count": 345,
   "metadata": {},
   "outputs": [
    {
     "data": {
      "text/plain": [
       "1    4007\n",
       "0    3684\n",
       "2    1322\n",
       "3     117\n",
       "Name: RevenueCluster, dtype: int64"
      ]
     },
     "execution_count": 345,
     "metadata": {},
     "output_type": "execute_result"
    }
   ],
   "source": [
    "sb_class['RevenueCluster'].value_counts()"
   ]
  },
  {
   "cell_type": "code",
   "execution_count": 346,
   "metadata": {},
   "outputs": [],
   "source": [
    "high_revenue = sb_class[sb_class['RevenueCluster'] == 3]"
   ]
  },
  {
   "cell_type": "code",
   "execution_count": 347,
   "metadata": {},
   "outputs": [
    {
     "name": "stdout",
     "output_type": "stream",
     "text": [
      "<class 'pandas.core.frame.DataFrame'>\n",
      "Int64Index: 117 entries, 3684 to 3800\n",
      "Data columns (total 23 columns):\n",
      " #   Column               Non-Null Count  Dtype  \n",
      "---  ------               --------------  -----  \n",
      " 0   person               117 non-null    object \n",
      " 1   next_purchase        117 non-null    float64\n",
      " 2   Recency              117 non-null    int64  \n",
      " 3   RecencyCluster       117 non-null    int64  \n",
      " 4   Frequency            117 non-null    int64  \n",
      " 5   FrequencyCluster     117 non-null    int64  \n",
      " 6   Revenue              117 non-null    float64\n",
      " 7   RevenueCluster       117 non-null    int64  \n",
      " 8   OverallScore         117 non-null    int64  \n",
      " 9   TimeDiff             117 non-null    float64\n",
      " 10  TimeDiff2            117 non-null    float64\n",
      " 11  TimeDiff3            117 non-null    float64\n",
      " 12  TimeDiffMean         117 non-null    float64\n",
      " 13  TimeDiffStd          117 non-null    float64\n",
      " 14  age                  117 non-null    int64  \n",
      " 15  member_time          117 non-null    int64  \n",
      " 16  income               117 non-null    float64\n",
      " 17  gender_F             117 non-null    int64  \n",
      " 18  gender_M             117 non-null    int64  \n",
      " 19  Segment_High-Value   117 non-null    int64  \n",
      " 20  Segment_Low-Value    117 non-null    int64  \n",
      " 21  Segment_Mid-Value    117 non-null    int64  \n",
      " 22  next_purchase_range  117 non-null    int64  \n",
      "dtypes: float64(8), int64(14), object(1)\n",
      "memory usage: 21.9+ KB\n"
     ]
    }
   ],
   "source": [
    "high_revenue.info()"
   ]
  },
  {
   "cell_type": "code",
   "execution_count": 348,
   "metadata": {},
   "outputs": [
    {
     "data": {
      "text/html": [
       "<div>\n",
       "<style scoped>\n",
       "    .dataframe tbody tr th:only-of-type {\n",
       "        vertical-align: middle;\n",
       "    }\n",
       "\n",
       "    .dataframe tbody tr th {\n",
       "        vertical-align: top;\n",
       "    }\n",
       "\n",
       "    .dataframe thead th {\n",
       "        text-align: right;\n",
       "    }\n",
       "</style>\n",
       "<table border=\"1\" class=\"dataframe\">\n",
       "  <thead>\n",
       "    <tr style=\"text-align: right;\">\n",
       "      <th></th>\n",
       "      <th>next_purchase</th>\n",
       "      <th>Recency</th>\n",
       "      <th>RecencyCluster</th>\n",
       "      <th>Frequency</th>\n",
       "      <th>FrequencyCluster</th>\n",
       "      <th>Revenue</th>\n",
       "      <th>RevenueCluster</th>\n",
       "      <th>OverallScore</th>\n",
       "      <th>TimeDiff</th>\n",
       "      <th>TimeDiff2</th>\n",
       "      <th>...</th>\n",
       "      <th>TimeDiffStd</th>\n",
       "      <th>age</th>\n",
       "      <th>member_time</th>\n",
       "      <th>income</th>\n",
       "      <th>gender_F</th>\n",
       "      <th>gender_M</th>\n",
       "      <th>Segment_High-Value</th>\n",
       "      <th>Segment_Low-Value</th>\n",
       "      <th>Segment_Mid-Value</th>\n",
       "      <th>next_purchase_range</th>\n",
       "    </tr>\n",
       "  </thead>\n",
       "  <tbody>\n",
       "    <tr>\n",
       "      <th>count</th>\n",
       "      <td>117.000000</td>\n",
       "      <td>117.000000</td>\n",
       "      <td>117.000000</td>\n",
       "      <td>117.000000</td>\n",
       "      <td>117.000000</td>\n",
       "      <td>117.000000</td>\n",
       "      <td>117.0</td>\n",
       "      <td>117.000000</td>\n",
       "      <td>117.000000</td>\n",
       "      <td>117.000000</td>\n",
       "      <td>...</td>\n",
       "      <td>117.000000</td>\n",
       "      <td>117.000000</td>\n",
       "      <td>117.000000</td>\n",
       "      <td>117.000000</td>\n",
       "      <td>117.000000</td>\n",
       "      <td>117.000000</td>\n",
       "      <td>117.000000</td>\n",
       "      <td>117.0</td>\n",
       "      <td>117.000000</td>\n",
       "      <td>117.000000</td>\n",
       "    </tr>\n",
       "    <tr>\n",
       "      <th>mean</th>\n",
       "      <td>120.136752</td>\n",
       "      <td>40.256410</td>\n",
       "      <td>2.666667</td>\n",
       "      <td>8.410256</td>\n",
       "      <td>1.888889</td>\n",
       "      <td>747.882137</td>\n",
       "      <td>3.0</td>\n",
       "      <td>7.555556</td>\n",
       "      <td>58.051282</td>\n",
       "      <td>117.128205</td>\n",
       "      <td>...</td>\n",
       "      <td>52.535472</td>\n",
       "      <td>55.888889</td>\n",
       "      <td>594.111111</td>\n",
       "      <td>77393.162393</td>\n",
       "      <td>0.478632</td>\n",
       "      <td>0.521368</td>\n",
       "      <td>0.846154</td>\n",
       "      <td>0.0</td>\n",
       "      <td>0.153846</td>\n",
       "      <td>0.811966</td>\n",
       "    </tr>\n",
       "    <tr>\n",
       "      <th>std</th>\n",
       "      <td>124.894225</td>\n",
       "      <td>39.321433</td>\n",
       "      <td>0.557086</td>\n",
       "      <td>3.311823</td>\n",
       "      <td>0.763135</td>\n",
       "      <td>177.468282</td>\n",
       "      <td>0.0</td>\n",
       "      <td>1.003824</td>\n",
       "      <td>57.435698</td>\n",
       "      <td>86.373840</td>\n",
       "      <td>...</td>\n",
       "      <td>31.948544</td>\n",
       "      <td>16.345820</td>\n",
       "      <td>326.396965</td>\n",
       "      <td>19437.325125</td>\n",
       "      <td>0.501692</td>\n",
       "      <td>0.501692</td>\n",
       "      <td>0.362353</td>\n",
       "      <td>0.0</td>\n",
       "      <td>0.362353</td>\n",
       "      <td>0.829745</td>\n",
       "    </tr>\n",
       "    <tr>\n",
       "      <th>min</th>\n",
       "      <td>6.000000</td>\n",
       "      <td>0.000000</td>\n",
       "      <td>1.000000</td>\n",
       "      <td>4.000000</td>\n",
       "      <td>1.000000</td>\n",
       "      <td>479.870000</td>\n",
       "      <td>3.0</td>\n",
       "      <td>5.000000</td>\n",
       "      <td>6.000000</td>\n",
       "      <td>12.000000</td>\n",
       "      <td>...</td>\n",
       "      <td>8.485281</td>\n",
       "      <td>18.000000</td>\n",
       "      <td>37.000000</td>\n",
       "      <td>39000.000000</td>\n",
       "      <td>0.000000</td>\n",
       "      <td>0.000000</td>\n",
       "      <td>0.000000</td>\n",
       "      <td>0.0</td>\n",
       "      <td>0.000000</td>\n",
       "      <td>0.000000</td>\n",
       "    </tr>\n",
       "    <tr>\n",
       "      <th>25%</th>\n",
       "      <td>48.000000</td>\n",
       "      <td>12.000000</td>\n",
       "      <td>2.000000</td>\n",
       "      <td>6.000000</td>\n",
       "      <td>1.000000</td>\n",
       "      <td>605.350000</td>\n",
       "      <td>3.0</td>\n",
       "      <td>7.000000</td>\n",
       "      <td>18.000000</td>\n",
       "      <td>48.000000</td>\n",
       "      <td>...</td>\n",
       "      <td>31.473694</td>\n",
       "      <td>46.000000</td>\n",
       "      <td>320.000000</td>\n",
       "      <td>64000.000000</td>\n",
       "      <td>0.000000</td>\n",
       "      <td>0.000000</td>\n",
       "      <td>1.000000</td>\n",
       "      <td>0.0</td>\n",
       "      <td>0.000000</td>\n",
       "      <td>0.000000</td>\n",
       "    </tr>\n",
       "    <tr>\n",
       "      <th>50%</th>\n",
       "      <td>90.000000</td>\n",
       "      <td>30.000000</td>\n",
       "      <td>3.000000</td>\n",
       "      <td>8.000000</td>\n",
       "      <td>2.000000</td>\n",
       "      <td>716.180000</td>\n",
       "      <td>3.0</td>\n",
       "      <td>8.000000</td>\n",
       "      <td>42.000000</td>\n",
       "      <td>84.000000</td>\n",
       "      <td>...</td>\n",
       "      <td>44.484931</td>\n",
       "      <td>57.000000</td>\n",
       "      <td>539.000000</td>\n",
       "      <td>72000.000000</td>\n",
       "      <td>0.000000</td>\n",
       "      <td>1.000000</td>\n",
       "      <td>1.000000</td>\n",
       "      <td>0.0</td>\n",
       "      <td>0.000000</td>\n",
       "      <td>1.000000</td>\n",
       "    </tr>\n",
       "    <tr>\n",
       "      <th>75%</th>\n",
       "      <td>156.000000</td>\n",
       "      <td>60.000000</td>\n",
       "      <td>3.000000</td>\n",
       "      <td>10.000000</td>\n",
       "      <td>2.000000</td>\n",
       "      <td>894.710000</td>\n",
       "      <td>3.0</td>\n",
       "      <td>8.000000</td>\n",
       "      <td>78.000000</td>\n",
       "      <td>174.000000</td>\n",
       "      <td>...</td>\n",
       "      <td>64.475909</td>\n",
       "      <td>67.000000</td>\n",
       "      <td>821.000000</td>\n",
       "      <td>94000.000000</td>\n",
       "      <td>1.000000</td>\n",
       "      <td>1.000000</td>\n",
       "      <td>1.000000</td>\n",
       "      <td>0.0</td>\n",
       "      <td>0.000000</td>\n",
       "      <td>2.000000</td>\n",
       "    </tr>\n",
       "    <tr>\n",
       "      <th>max</th>\n",
       "      <td>679.000000</td>\n",
       "      <td>210.000000</td>\n",
       "      <td>3.000000</td>\n",
       "      <td>20.000000</td>\n",
       "      <td>3.000000</td>\n",
       "      <td>1226.790000</td>\n",
       "      <td>3.0</td>\n",
       "      <td>9.000000</td>\n",
       "      <td>258.000000</td>\n",
       "      <td>444.000000</td>\n",
       "      <td>...</td>\n",
       "      <td>212.075458</td>\n",
       "      <td>94.000000</td>\n",
       "      <td>1752.000000</td>\n",
       "      <td>119000.000000</td>\n",
       "      <td>1.000000</td>\n",
       "      <td>1.000000</td>\n",
       "      <td>1.000000</td>\n",
       "      <td>0.0</td>\n",
       "      <td>1.000000</td>\n",
       "      <td>2.000000</td>\n",
       "    </tr>\n",
       "  </tbody>\n",
       "</table>\n",
       "<p>8 rows × 22 columns</p>\n",
       "</div>"
      ],
      "text/plain": [
       "       next_purchase     Recency  RecencyCluster   Frequency  \\\n",
       "count     117.000000  117.000000      117.000000  117.000000   \n",
       "mean      120.136752   40.256410        2.666667    8.410256   \n",
       "std       124.894225   39.321433        0.557086    3.311823   \n",
       "min         6.000000    0.000000        1.000000    4.000000   \n",
       "25%        48.000000   12.000000        2.000000    6.000000   \n",
       "50%        90.000000   30.000000        3.000000    8.000000   \n",
       "75%       156.000000   60.000000        3.000000   10.000000   \n",
       "max       679.000000  210.000000        3.000000   20.000000   \n",
       "\n",
       "       FrequencyCluster      Revenue  RevenueCluster  OverallScore  \\\n",
       "count        117.000000   117.000000           117.0    117.000000   \n",
       "mean           1.888889   747.882137             3.0      7.555556   \n",
       "std            0.763135   177.468282             0.0      1.003824   \n",
       "min            1.000000   479.870000             3.0      5.000000   \n",
       "25%            1.000000   605.350000             3.0      7.000000   \n",
       "50%            2.000000   716.180000             3.0      8.000000   \n",
       "75%            2.000000   894.710000             3.0      8.000000   \n",
       "max            3.000000  1226.790000             3.0      9.000000   \n",
       "\n",
       "         TimeDiff   TimeDiff2  ...  TimeDiffStd         age  member_time  \\\n",
       "count  117.000000  117.000000  ...   117.000000  117.000000   117.000000   \n",
       "mean    58.051282  117.128205  ...    52.535472   55.888889   594.111111   \n",
       "std     57.435698   86.373840  ...    31.948544   16.345820   326.396965   \n",
       "min      6.000000   12.000000  ...     8.485281   18.000000    37.000000   \n",
       "25%     18.000000   48.000000  ...    31.473694   46.000000   320.000000   \n",
       "50%     42.000000   84.000000  ...    44.484931   57.000000   539.000000   \n",
       "75%     78.000000  174.000000  ...    64.475909   67.000000   821.000000   \n",
       "max    258.000000  444.000000  ...   212.075458   94.000000  1752.000000   \n",
       "\n",
       "              income    gender_F    gender_M  Segment_High-Value  \\\n",
       "count     117.000000  117.000000  117.000000          117.000000   \n",
       "mean    77393.162393    0.478632    0.521368            0.846154   \n",
       "std     19437.325125    0.501692    0.501692            0.362353   \n",
       "min     39000.000000    0.000000    0.000000            0.000000   \n",
       "25%     64000.000000    0.000000    0.000000            1.000000   \n",
       "50%     72000.000000    0.000000    1.000000            1.000000   \n",
       "75%     94000.000000    1.000000    1.000000            1.000000   \n",
       "max    119000.000000    1.000000    1.000000            1.000000   \n",
       "\n",
       "       Segment_Low-Value  Segment_Mid-Value  next_purchase_range  \n",
       "count              117.0         117.000000           117.000000  \n",
       "mean                 0.0           0.153846             0.811966  \n",
       "std                  0.0           0.362353             0.829745  \n",
       "min                  0.0           0.000000             0.000000  \n",
       "25%                  0.0           0.000000             0.000000  \n",
       "50%                  0.0           0.000000             1.000000  \n",
       "75%                  0.0           0.000000             2.000000  \n",
       "max                  0.0           1.000000             2.000000  \n",
       "\n",
       "[8 rows x 22 columns]"
      ]
     },
     "execution_count": 348,
     "metadata": {},
     "output_type": "execute_result"
    }
   ],
   "source": [
    "high_revenue.describe()"
   ]
  },
  {
   "cell_type": "code",
   "execution_count": 349,
   "metadata": {},
   "outputs": [],
   "source": [
    "sb_class.drop(columns = ['next_purchase'], inplace = True)"
   ]
  },
  {
   "cell_type": "code",
   "execution_count": 350,
   "metadata": {},
   "outputs": [
    {
     "name": "stdout",
     "output_type": "stream",
     "text": [
      "<class 'pandas.core.frame.DataFrame'>\n",
      "RangeIndex: 9130 entries, 0 to 9129\n",
      "Data columns (total 22 columns):\n",
      " #   Column               Non-Null Count  Dtype  \n",
      "---  ------               --------------  -----  \n",
      " 0   person               9130 non-null   object \n",
      " 1   Recency              9130 non-null   int64  \n",
      " 2   RecencyCluster       9130 non-null   int64  \n",
      " 3   Frequency            9130 non-null   int64  \n",
      " 4   FrequencyCluster     9130 non-null   int64  \n",
      " 5   Revenue              9130 non-null   float64\n",
      " 6   RevenueCluster       9130 non-null   int64  \n",
      " 7   OverallScore         9130 non-null   int64  \n",
      " 8   TimeDiff             9130 non-null   float64\n",
      " 9   TimeDiff2            9130 non-null   float64\n",
      " 10  TimeDiff3            9130 non-null   float64\n",
      " 11  TimeDiffMean         9130 non-null   float64\n",
      " 12  TimeDiffStd          9130 non-null   float64\n",
      " 13  age                  9130 non-null   int64  \n",
      " 14  member_time          9130 non-null   int64  \n",
      " 15  income               9130 non-null   float64\n",
      " 16  gender_F             9130 non-null   int64  \n",
      " 17  gender_M             9130 non-null   int64  \n",
      " 18  Segment_High-Value   9130 non-null   int64  \n",
      " 19  Segment_Low-Value    9130 non-null   int64  \n",
      " 20  Segment_Mid-Value    9130 non-null   int64  \n",
      " 21  next_purchase_range  9130 non-null   int64  \n",
      "dtypes: float64(7), int64(14), object(1)\n",
      "memory usage: 1.5+ MB\n"
     ]
    }
   ],
   "source": [
    "sb_class.info()"
   ]
  },
  {
   "cell_type": "markdown",
   "metadata": {},
   "source": [
    "# Modeling\n",
    "We'll start with our original setup of three classes: 2=within 48 hours, 1=within 96 hours, 0=more than 96 hours. We expanded that to nine classes after getting such good results with three classes previously, but since we're going back to the drawing board let's start again with the three classes."
   ]
  },
  {
   "cell_type": "code",
   "execution_count": 351,
   "metadata": {},
   "outputs": [],
   "source": [
    "from sklearn.model_selection import train_test_split "
   ]
  },
  {
   "cell_type": "code",
   "execution_count": 352,
   "metadata": {},
   "outputs": [],
   "source": [
    "from sklearn.preprocessing import StandardScaler\n",
    "scaler = StandardScaler()"
   ]
  },
  {
   "cell_type": "code",
   "execution_count": 353,
   "metadata": {},
   "outputs": [],
   "source": [
    "def make_Xy(target, df):\n",
    "    X = df.drop(columns = ['person', target])\n",
    "    y = df[target]\n",
    "    return X, y"
   ]
  },
  {
   "cell_type": "code",
   "execution_count": 354,
   "metadata": {},
   "outputs": [],
   "source": [
    "def scale(train, test):\n",
    "    X_train = scaler.fit_transform(train)\n",
    "    X_test = scaler.transform(test)\n",
    "    return X_train, X_test"
   ]
  },
  {
   "cell_type": "code",
   "execution_count": 355,
   "metadata": {},
   "outputs": [],
   "source": [
    "X, y = make_Xy('next_purchase_range', sb_class)"
   ]
  },
  {
   "cell_type": "code",
   "execution_count": 356,
   "metadata": {},
   "outputs": [],
   "source": [
    "X_train, X_test, y_train, y_test = train_test_split(X, y, test_size = 0.3, random_state = 42)"
   ]
  },
  {
   "cell_type": "code",
   "execution_count": 357,
   "metadata": {},
   "outputs": [],
   "source": [
    "X_train, X_test = scale(X_train, X_test)"
   ]
  },
  {
   "cell_type": "code",
   "execution_count": 358,
   "metadata": {},
   "outputs": [],
   "source": [
    "X_scaled_df = pd.DataFrame(X_train, columns = X.columns)"
   ]
  },
  {
   "cell_type": "code",
   "execution_count": 359,
   "metadata": {},
   "outputs": [
    {
     "data": {
      "text/html": [
       "<div>\n",
       "<style scoped>\n",
       "    .dataframe tbody tr th:only-of-type {\n",
       "        vertical-align: middle;\n",
       "    }\n",
       "\n",
       "    .dataframe tbody tr th {\n",
       "        vertical-align: top;\n",
       "    }\n",
       "\n",
       "    .dataframe thead th {\n",
       "        text-align: right;\n",
       "    }\n",
       "</style>\n",
       "<table border=\"1\" class=\"dataframe\">\n",
       "  <thead>\n",
       "    <tr style=\"text-align: right;\">\n",
       "      <th></th>\n",
       "      <th>Recency</th>\n",
       "      <th>RecencyCluster</th>\n",
       "      <th>Frequency</th>\n",
       "      <th>FrequencyCluster</th>\n",
       "      <th>Revenue</th>\n",
       "      <th>RevenueCluster</th>\n",
       "      <th>OverallScore</th>\n",
       "      <th>TimeDiff</th>\n",
       "      <th>TimeDiff2</th>\n",
       "      <th>TimeDiff3</th>\n",
       "      <th>TimeDiffMean</th>\n",
       "      <th>TimeDiffStd</th>\n",
       "      <th>age</th>\n",
       "      <th>member_time</th>\n",
       "      <th>income</th>\n",
       "      <th>gender_F</th>\n",
       "      <th>gender_M</th>\n",
       "      <th>Segment_High-Value</th>\n",
       "      <th>Segment_Low-Value</th>\n",
       "      <th>Segment_Mid-Value</th>\n",
       "    </tr>\n",
       "  </thead>\n",
       "  <tbody>\n",
       "    <tr>\n",
       "      <th>0</th>\n",
       "      <td>-0.936509</td>\n",
       "      <td>0.655437</td>\n",
       "      <td>4.330337</td>\n",
       "      <td>1.868422</td>\n",
       "      <td>-0.135200</td>\n",
       "      <td>0.309990</td>\n",
       "      <td>1.434385</td>\n",
       "      <td>-0.919887</td>\n",
       "      <td>-1.311438</td>\n",
       "      <td>-1.423161</td>\n",
       "      <td>-1.504283</td>\n",
       "      <td>-1.143378</td>\n",
       "      <td>-0.448961</td>\n",
       "      <td>0.552230</td>\n",
       "      <td>0.486453</td>\n",
       "      <td>-0.844089</td>\n",
       "      <td>0.844089</td>\n",
       "      <td>2.423230</td>\n",
       "      <td>-0.405375</td>\n",
       "      <td>-1.57751</td>\n",
       "    </tr>\n",
       "    <tr>\n",
       "      <th>1</th>\n",
       "      <td>-0.476142</td>\n",
       "      <td>0.655437</td>\n",
       "      <td>-0.079398</td>\n",
       "      <td>0.500913</td>\n",
       "      <td>-0.414501</td>\n",
       "      <td>-1.040484</td>\n",
       "      <td>0.024270</td>\n",
       "      <td>-0.144920</td>\n",
       "      <td>0.205595</td>\n",
       "      <td>-0.177942</td>\n",
       "      <td>-0.149505</td>\n",
       "      <td>-0.637902</td>\n",
       "      <td>0.397626</td>\n",
       "      <td>0.042158</td>\n",
       "      <td>-1.475825</td>\n",
       "      <td>-0.844089</td>\n",
       "      <td>0.844089</td>\n",
       "      <td>-0.412672</td>\n",
       "      <td>-0.405375</td>\n",
       "      <td>0.63391</td>\n",
       "    </tr>\n",
       "    <tr>\n",
       "      <th>2</th>\n",
       "      <td>-0.245959</td>\n",
       "      <td>0.655437</td>\n",
       "      <td>-0.709360</td>\n",
       "      <td>-0.866595</td>\n",
       "      <td>-0.364203</td>\n",
       "      <td>-1.040484</td>\n",
       "      <td>-0.680787</td>\n",
       "      <td>2.567464</td>\n",
       "      <td>1.446803</td>\n",
       "      <td>1.576686</td>\n",
       "      <td>1.375053</td>\n",
       "      <td>0.979725</td>\n",
       "      <td>0.454066</td>\n",
       "      <td>-0.952132</td>\n",
       "      <td>-0.901500</td>\n",
       "      <td>-0.844089</td>\n",
       "      <td>0.844089</td>\n",
       "      <td>-0.412672</td>\n",
       "      <td>-0.405375</td>\n",
       "      <td>0.63391</td>\n",
       "    </tr>\n",
       "    <tr>\n",
       "      <th>3</th>\n",
       "      <td>0.789866</td>\n",
       "      <td>-0.838997</td>\n",
       "      <td>0.865545</td>\n",
       "      <td>0.500913</td>\n",
       "      <td>0.035220</td>\n",
       "      <td>0.309990</td>\n",
       "      <td>0.024270</td>\n",
       "      <td>0.630047</td>\n",
       "      <td>-0.139185</td>\n",
       "      <td>-0.574148</td>\n",
       "      <td>-0.900234</td>\n",
       "      <td>-0.402499</td>\n",
       "      <td>-1.803501</td>\n",
       "      <td>1.584129</td>\n",
       "      <td>-0.805779</td>\n",
       "      <td>-0.844089</td>\n",
       "      <td>0.844089</td>\n",
       "      <td>-0.412672</td>\n",
       "      <td>-0.405375</td>\n",
       "      <td>0.63391</td>\n",
       "    </tr>\n",
       "    <tr>\n",
       "      <th>4</th>\n",
       "      <td>-0.476142</td>\n",
       "      <td>0.655437</td>\n",
       "      <td>0.550564</td>\n",
       "      <td>0.500913</td>\n",
       "      <td>-0.710764</td>\n",
       "      <td>-1.040484</td>\n",
       "      <td>0.024270</td>\n",
       "      <td>-0.532403</td>\n",
       "      <td>-0.897701</td>\n",
       "      <td>-0.630749</td>\n",
       "      <td>-0.392048</td>\n",
       "      <td>0.606833</td>\n",
       "      <td>0.736261</td>\n",
       "      <td>0.241956</td>\n",
       "      <td>-0.757919</td>\n",
       "      <td>-0.844089</td>\n",
       "      <td>0.844089</td>\n",
       "      <td>-0.412672</td>\n",
       "      <td>-0.405375</td>\n",
       "      <td>0.63391</td>\n",
       "    </tr>\n",
       "    <tr>\n",
       "      <th>5</th>\n",
       "      <td>-0.361050</td>\n",
       "      <td>0.655437</td>\n",
       "      <td>-0.394379</td>\n",
       "      <td>-0.866595</td>\n",
       "      <td>-0.414599</td>\n",
       "      <td>-1.040484</td>\n",
       "      <td>-0.680787</td>\n",
       "      <td>-0.726145</td>\n",
       "      <td>-1.173526</td>\n",
       "      <td>-0.517547</td>\n",
       "      <td>0.605844</td>\n",
       "      <td>1.748280</td>\n",
       "      <td>-1.577745</td>\n",
       "      <td>0.636851</td>\n",
       "      <td>-0.710058</td>\n",
       "      <td>-0.844089</td>\n",
       "      <td>0.844089</td>\n",
       "      <td>-0.412672</td>\n",
       "      <td>-0.405375</td>\n",
       "      <td>0.63391</td>\n",
       "    </tr>\n",
       "    <tr>\n",
       "      <th>6</th>\n",
       "      <td>1.020050</td>\n",
       "      <td>-0.838997</td>\n",
       "      <td>-0.394379</td>\n",
       "      <td>-0.866595</td>\n",
       "      <td>-0.770431</td>\n",
       "      <td>-1.040484</td>\n",
       "      <td>-1.385844</td>\n",
       "      <td>-0.048049</td>\n",
       "      <td>-0.346053</td>\n",
       "      <td>-0.064740</td>\n",
       "      <td>-0.142575</td>\n",
       "      <td>-0.669472</td>\n",
       "      <td>0.115431</td>\n",
       "      <td>0.881309</td>\n",
       "      <td>-0.470756</td>\n",
       "      <td>1.184709</td>\n",
       "      <td>-1.184709</td>\n",
       "      <td>-0.412672</td>\n",
       "      <td>2.466853</td>\n",
       "      <td>-1.57751</td>\n",
       "    </tr>\n",
       "    <tr>\n",
       "      <th>7</th>\n",
       "      <td>-0.591234</td>\n",
       "      <td>0.655437</td>\n",
       "      <td>-0.709360</td>\n",
       "      <td>-0.866595</td>\n",
       "      <td>-0.448526</td>\n",
       "      <td>-1.040484</td>\n",
       "      <td>-0.680787</td>\n",
       "      <td>2.276851</td>\n",
       "      <td>1.377847</td>\n",
       "      <td>0.897475</td>\n",
       "      <td>1.427027</td>\n",
       "      <td>0.806297</td>\n",
       "      <td>-1.859941</td>\n",
       "      <td>-0.785242</td>\n",
       "      <td>-0.805779</td>\n",
       "      <td>1.184709</td>\n",
       "      <td>-1.184709</td>\n",
       "      <td>-0.412672</td>\n",
       "      <td>-0.405375</td>\n",
       "      <td>0.63391</td>\n",
       "    </tr>\n",
       "    <tr>\n",
       "      <th>8</th>\n",
       "      <td>-0.130867</td>\n",
       "      <td>0.655437</td>\n",
       "      <td>-0.079398</td>\n",
       "      <td>0.500913</td>\n",
       "      <td>-0.183427</td>\n",
       "      <td>0.309990</td>\n",
       "      <td>0.729328</td>\n",
       "      <td>-0.823016</td>\n",
       "      <td>-1.173526</td>\n",
       "      <td>0.218265</td>\n",
       "      <td>-0.010909</td>\n",
       "      <td>0.683536</td>\n",
       "      <td>0.454066</td>\n",
       "      <td>0.481713</td>\n",
       "      <td>-1.045082</td>\n",
       "      <td>-0.844089</td>\n",
       "      <td>0.844089</td>\n",
       "      <td>-0.412672</td>\n",
       "      <td>-0.405375</td>\n",
       "      <td>0.63391</td>\n",
       "    </tr>\n",
       "    <tr>\n",
       "      <th>9</th>\n",
       "      <td>-0.015775</td>\n",
       "      <td>0.655437</td>\n",
       "      <td>-0.709360</td>\n",
       "      <td>-0.866595</td>\n",
       "      <td>-0.206308</td>\n",
       "      <td>0.309990</td>\n",
       "      <td>0.024270</td>\n",
       "      <td>1.501885</td>\n",
       "      <td>0.688287</td>\n",
       "      <td>0.048462</td>\n",
       "      <td>-0.288101</td>\n",
       "      <td>0.380337</td>\n",
       "      <td>-1.972819</td>\n",
       "      <td>0.629799</td>\n",
       "      <td>-0.662198</td>\n",
       "      <td>-0.844089</td>\n",
       "      <td>0.844089</td>\n",
       "      <td>-0.412672</td>\n",
       "      <td>-0.405375</td>\n",
       "      <td>0.63391</td>\n",
       "    </tr>\n",
       "  </tbody>\n",
       "</table>\n",
       "</div>"
      ],
      "text/plain": [
       "    Recency  RecencyCluster  Frequency  FrequencyCluster   Revenue  \\\n",
       "0 -0.936509        0.655437   4.330337          1.868422 -0.135200   \n",
       "1 -0.476142        0.655437  -0.079398          0.500913 -0.414501   \n",
       "2 -0.245959        0.655437  -0.709360         -0.866595 -0.364203   \n",
       "3  0.789866       -0.838997   0.865545          0.500913  0.035220   \n",
       "4 -0.476142        0.655437   0.550564          0.500913 -0.710764   \n",
       "5 -0.361050        0.655437  -0.394379         -0.866595 -0.414599   \n",
       "6  1.020050       -0.838997  -0.394379         -0.866595 -0.770431   \n",
       "7 -0.591234        0.655437  -0.709360         -0.866595 -0.448526   \n",
       "8 -0.130867        0.655437  -0.079398          0.500913 -0.183427   \n",
       "9 -0.015775        0.655437  -0.709360         -0.866595 -0.206308   \n",
       "\n",
       "   RevenueCluster  OverallScore  TimeDiff  TimeDiff2  TimeDiff3  TimeDiffMean  \\\n",
       "0        0.309990      1.434385 -0.919887  -1.311438  -1.423161     -1.504283   \n",
       "1       -1.040484      0.024270 -0.144920   0.205595  -0.177942     -0.149505   \n",
       "2       -1.040484     -0.680787  2.567464   1.446803   1.576686      1.375053   \n",
       "3        0.309990      0.024270  0.630047  -0.139185  -0.574148     -0.900234   \n",
       "4       -1.040484      0.024270 -0.532403  -0.897701  -0.630749     -0.392048   \n",
       "5       -1.040484     -0.680787 -0.726145  -1.173526  -0.517547      0.605844   \n",
       "6       -1.040484     -1.385844 -0.048049  -0.346053  -0.064740     -0.142575   \n",
       "7       -1.040484     -0.680787  2.276851   1.377847   0.897475      1.427027   \n",
       "8        0.309990      0.729328 -0.823016  -1.173526   0.218265     -0.010909   \n",
       "9        0.309990      0.024270  1.501885   0.688287   0.048462     -0.288101   \n",
       "\n",
       "   TimeDiffStd       age  member_time    income  gender_F  gender_M  \\\n",
       "0    -1.143378 -0.448961     0.552230  0.486453 -0.844089  0.844089   \n",
       "1    -0.637902  0.397626     0.042158 -1.475825 -0.844089  0.844089   \n",
       "2     0.979725  0.454066    -0.952132 -0.901500 -0.844089  0.844089   \n",
       "3    -0.402499 -1.803501     1.584129 -0.805779 -0.844089  0.844089   \n",
       "4     0.606833  0.736261     0.241956 -0.757919 -0.844089  0.844089   \n",
       "5     1.748280 -1.577745     0.636851 -0.710058 -0.844089  0.844089   \n",
       "6    -0.669472  0.115431     0.881309 -0.470756  1.184709 -1.184709   \n",
       "7     0.806297 -1.859941    -0.785242 -0.805779  1.184709 -1.184709   \n",
       "8     0.683536  0.454066     0.481713 -1.045082 -0.844089  0.844089   \n",
       "9     0.380337 -1.972819     0.629799 -0.662198 -0.844089  0.844089   \n",
       "\n",
       "   Segment_High-Value  Segment_Low-Value  Segment_Mid-Value  \n",
       "0            2.423230          -0.405375           -1.57751  \n",
       "1           -0.412672          -0.405375            0.63391  \n",
       "2           -0.412672          -0.405375            0.63391  \n",
       "3           -0.412672          -0.405375            0.63391  \n",
       "4           -0.412672          -0.405375            0.63391  \n",
       "5           -0.412672          -0.405375            0.63391  \n",
       "6           -0.412672           2.466853           -1.57751  \n",
       "7           -0.412672          -0.405375            0.63391  \n",
       "8           -0.412672          -0.405375            0.63391  \n",
       "9           -0.412672          -0.405375            0.63391  "
      ]
     },
     "execution_count": 359,
     "metadata": {},
     "output_type": "execute_result"
    }
   ],
   "source": [
    "X_scaled_df.head(10)"
   ]
  },
  {
   "cell_type": "code",
   "execution_count": 360,
   "metadata": {},
   "outputs": [
    {
     "data": {
      "text/plain": [
       "Recency              -4.795448e-17\n",
       "RecencyCluster        3.050812e-16\n",
       "Frequency            -2.541474e-16\n",
       "FrequencyCluster     -3.055676e-17\n",
       "Revenue              -1.012768e-16\n",
       "RevenueCluster        4.176235e-16\n",
       "OverallScore         -3.381568e-16\n",
       "TimeDiff             -2.051463e-16\n",
       "TimeDiff2             1.136194e-16\n",
       "TimeDiff3             8.242854e-17\n",
       "TimeDiffMean         -5.760444e-17\n",
       "TimeDiffStd          -1.811170e-16\n",
       "age                  -2.153739e-16\n",
       "member_time          -2.536263e-17\n",
       "income                1.643881e-16\n",
       "gender_F              9.592633e-17\n",
       "gender_M             -9.592633e-17\n",
       "Segment_High-Value    2.653174e-16\n",
       "Segment_Low-Value     3.935116e-16\n",
       "Segment_Mid-Value    -5.317293e-16\n",
       "dtype: float64"
      ]
     },
     "execution_count": 360,
     "metadata": {},
     "output_type": "execute_result"
    }
   ],
   "source": [
    "X_scaled_df.mean()"
   ]
  },
  {
   "cell_type": "code",
   "execution_count": 361,
   "metadata": {},
   "outputs": [
    {
     "data": {
      "text/plain": [
       "Recency               1.000078\n",
       "RecencyCluster        1.000078\n",
       "Frequency             1.000078\n",
       "FrequencyCluster      1.000078\n",
       "Revenue               1.000078\n",
       "RevenueCluster        1.000078\n",
       "OverallScore          1.000078\n",
       "TimeDiff              1.000078\n",
       "TimeDiff2             1.000078\n",
       "TimeDiff3             1.000078\n",
       "TimeDiffMean          1.000078\n",
       "TimeDiffStd           1.000078\n",
       "age                   1.000078\n",
       "member_time           1.000078\n",
       "income                1.000078\n",
       "gender_F              1.000078\n",
       "gender_M              1.000078\n",
       "Segment_High-Value    1.000078\n",
       "Segment_Low-Value     1.000078\n",
       "Segment_Mid-Value     1.000078\n",
       "dtype: float64"
      ]
     },
     "execution_count": 361,
     "metadata": {},
     "output_type": "execute_result"
    }
   ],
   "source": [
    "X_scaled_df.std()"
   ]
  },
  {
   "cell_type": "code",
   "execution_count": 362,
   "metadata": {},
   "outputs": [],
   "source": [
    "model_lists = []"
   ]
  },
  {
   "cell_type": "markdown",
   "metadata": {},
   "source": [
    "This function prints out the parts of the classification report we're most interested in."
   ]
  },
  {
   "cell_type": "code",
   "execution_count": 363,
   "metadata": {},
   "outputs": [],
   "source": [
    "def show_report(df):\n",
    "    for i in range(3):\n",
    "        precision = df.loc['precision', str(i)]\n",
    "        recall = df.loc['recall', str(i)]\n",
    "        f1score = df.loc['f1-score', str(i)]\n",
    "        print()\n",
    "        print(i, \" class:\")\n",
    "        print(f\"Precision: {precision:.5f}\")\n",
    "        print(f\"Recall: {recall:.5f}\")\n",
    "        print(f\"F1 Score: {f1score:.5f}\")"
   ]
  },
  {
   "cell_type": "markdown",
   "metadata": {},
   "source": [
    "# Gathering model metrics\n",
    "This function collects classification report and confusion matrix information in a list so we can create a dataframe of our model results.<br>\n",
    "\n",
    "There are three types of errors we most want to avoid, in this order:<br>\n",
    "\n",
    "**Class 2 predicted as Class 0:** Customers who will come back in 2 days predicted as not coming back until at least 4 days.<br>\n",
    "**Class 1 predicted as Class 0:** Customers who will come back in 2-4 days predicted as not coming back until at least 4 days.<br>\n",
    "**Class 2 predicted as Class 1:** Customers who will come back in 2 days predicted as coming back in 2-4 days.<br>"
   ]
  },
  {
   "cell_type": "code",
   "execution_count": 364,
   "metadata": {},
   "outputs": [],
   "source": [
    "def list_to_append(model, acc, df, c_matrix):\n",
    "    new_list = []\n",
    "    new_list.append(model)\n",
    "    new_list.append(round(acc, 5))\n",
    "    for i in range(3):\n",
    "        new_list.append(round(df.loc['precision', str(i)], 5))\n",
    "        new_list.append(round(df.loc['recall', str(i)], 5))\n",
    "        new_list.append(round(df.loc['f1-score', str(i)], 5))\n",
    "    new_list.append(round(c_matrix[2, 0], 5))\n",
    "    new_list.append(round(c_matrix[1, 0], 5))\n",
    "    new_list.append(round(c_matrix[2, 1], 5))\n",
    "    return new_list"
   ]
  },
  {
   "cell_type": "code",
   "execution_count": 365,
   "metadata": {},
   "outputs": [],
   "source": [
    "from sklearn.linear_model import LogisticRegression\n",
    "from sklearn.metrics import accuracy_score\n",
    "from sklearn.metrics import confusion_matrix\n",
    "from sklearn.metrics import classification_report"
   ]
  },
  {
   "cell_type": "code",
   "execution_count": 366,
   "metadata": {},
   "outputs": [],
   "source": [
    "clf = LogisticRegression()\n",
    "clf.fit(X_train, y_train)\n",
    "y_pred = clf.predict(X_test)"
   ]
  },
  {
   "cell_type": "code",
   "execution_count": 367,
   "metadata": {},
   "outputs": [
    {
     "name": "stdout",
     "output_type": "stream",
     "text": [
      "Accuracy score:\n",
      "0.6020445418035779\n",
      "\n",
      "\n",
      "0  class:\n",
      "Precision: 0.69685\n",
      "Recall: 0.78319\n",
      "F1 Score: 0.73750\n",
      "\n",
      "1  class:\n",
      "Precision: 0.39931\n",
      "Recall: 0.15562\n",
      "F1 Score: 0.22395\n",
      "\n",
      "2  class:\n",
      "Precision: 0.50917\n",
      "Recall: 0.73292\n",
      "F1 Score: 0.60089\n"
     ]
    }
   ],
   "source": [
    "report = classification_report(y_test, y_pred, output_dict = True)\n",
    "report_df = pd.DataFrame(report)\n",
    "acc = accuracy_score(y_test, y_pred)\n",
    "print(\"Accuracy score:\")\n",
    "print(acc)\n",
    "print()\n",
    "show_report(report_df)"
   ]
  },
  {
   "cell_type": "code",
   "execution_count": 368,
   "metadata": {},
   "outputs": [
    {
     "data": {
      "image/png": "[encoded data removed]",
      "text/plain": [
       "<Figure size 864x576 with 2 Axes>"
      ]
     },
     "metadata": {},
     "output_type": "display_data"
    }
   ],
   "source": [
    "sns.set(rc = {'figure.figsize':(12,8)}, font_scale = 2)\n",
    "clf_cmatrix = confusion_matrix(y_test, y_pred, normalize = 'true')\n",
    "sns.heatmap(clf_cmatrix, annot=True, cmap = 'Blues').set(title = 'Confusion matrix with 3 classes');"
   ]
  },
  {
   "cell_type": "code",
   "execution_count": 369,
   "metadata": {},
   "outputs": [],
   "source": [
    "new_list = list_to_append('Base Logistic Regression', acc, report_df, clf_cmatrix)"
   ]
  },
  {
   "cell_type": "code",
   "execution_count": 370,
   "metadata": {},
   "outputs": [],
   "source": [
    "model_lists.append(new_list)"
   ]
  },
  {
   "cell_type": "code",
   "execution_count": 371,
   "metadata": {},
   "outputs": [
    {
     "data": {
      "text/plain": [
       "[['Base Logistic Regression',\n",
       "  0.60204,\n",
       "  0.69685,\n",
       "  0.78319,\n",
       "  0.7375,\n",
       "  0.39931,\n",
       "  0.15562,\n",
       "  0.22395,\n",
       "  0.50917,\n",
       "  0.73292,\n",
       "  0.60089,\n",
       "  0.1382,\n",
       "  0.50474,\n",
       "  0.12888]]"
      ]
     },
     "execution_count": 371,
     "metadata": {},
     "output_type": "execute_result"
    }
   ],
   "source": [
    "model_lists"
   ]
  },
  {
   "cell_type": "markdown",
   "metadata": {},
   "source": [
    "# Good news and bad news\n",
    "The bad news is we only have 60 percent accuracy. The good news is we don't have such great results that we're wondering if we did anything wrong. So now we can start tuning the model."
   ]
  },
  {
   "cell_type": "code",
   "execution_count": 372,
   "metadata": {},
   "outputs": [],
   "source": [
    "#from sklearn.model_selection import KFold\n",
    "from sklearn.model_selection import GridSearchCV"
   ]
  },
  {
   "cell_type": "code",
   "execution_count": 373,
   "metadata": {},
   "outputs": [
    {
     "name": "stderr",
     "output_type": "stream",
     "text": [
      "C:\\Users\\Owner\\anaconda3\\lib\\site-packages\\sklearn\\linear_model\\_logistic.py:762: ConvergenceWarning: lbfgs failed to converge (status=1):\n",
      "STOP: TOTAL NO. of ITERATIONS REACHED LIMIT.\n",
      "\n",
      "Increase the number of iterations (max_iter) or scale the data as shown in:\n",
      "    https://scikit-learn.org/stable/modules/preprocessing.html\n",
      "Please also refer to the documentation for alternative solver options:\n",
      "    https://scikit-learn.org/stable/modules/linear_model.html#logistic-regression\n",
      "  n_iter_i = _check_optimize_result(\n"
     ]
    },
    {
     "data": {
      "text/plain": [
       "{'C': 1}"
      ]
     },
     "execution_count": 373,
     "metadata": {},
     "output_type": "execute_result"
    }
   ],
   "source": [
    "param_grid = {\"C\": [0.001, 0.1, 1, 10, 100]}\n",
    "logreg = LogisticRegression()\n",
    "logreg_cv = GridSearchCV(logreg, param_grid, cv=5)\n",
    "logreg_cv.fit(X_train, y_train) \n",
    "logreg_cv.best_params_"
   ]
  },
  {
   "cell_type": "code",
   "execution_count": 374,
   "metadata": {},
   "outputs": [
    {
     "data": {
      "text/plain": [
       "0.6066335813508451"
      ]
     },
     "execution_count": 374,
     "metadata": {},
     "output_type": "execute_result"
    }
   ],
   "source": [
    "logreg_cv.best_score_"
   ]
  },
  {
   "cell_type": "code",
   "execution_count": 375,
   "metadata": {},
   "outputs": [],
   "source": [
    "best_clsfr = LogisticRegression(C=1)\n",
    "best_clsfr.fit(X_train, y_train)\n",
    "y_pred = best_clsfr.predict(X_test)"
   ]
  },
  {
   "cell_type": "code",
   "execution_count": 376,
   "metadata": {},
   "outputs": [
    {
     "name": "stdout",
     "output_type": "stream",
     "text": [
      "Accuracy score:\n",
      "0.6020445418035779\n",
      "\n",
      "\n",
      "0  class:\n",
      "Precision: 0.69685\n",
      "Recall: 0.78319\n",
      "F1 Score: 0.73750\n",
      "\n",
      "1  class:\n",
      "Precision: 0.39931\n",
      "Recall: 0.15562\n",
      "F1 Score: 0.22395\n",
      "\n",
      "2  class:\n",
      "Precision: 0.50917\n",
      "Recall: 0.73292\n",
      "F1 Score: 0.60089\n"
     ]
    }
   ],
   "source": [
    "report = classification_report(y_test, y_pred, output_dict = True)\n",
    "report_df = pd.DataFrame(report)\n",
    "acc = accuracy_score(y_test, y_pred)\n",
    "print(\"Accuracy score:\")\n",
    "print(acc)\n",
    "print()\n",
    "show_report(report_df)"
   ]
  },
  {
   "cell_type": "code",
   "execution_count": 377,
   "metadata": {},
   "outputs": [
    {
     "data": {
      "image/png": "[encoded data removed]",
      "text/plain": [
       "<Figure size 864x576 with 2 Axes>"
      ]
     },
     "metadata": {},
     "output_type": "display_data"
    }
   ],
   "source": [
    "sns.set(rc = {'figure.figsize':(12,8)}, font_scale = 2)\n",
    "best_clsfr_cmatrix = confusion_matrix(y_test, y_pred, normalize = 'true')\n",
    "sns.heatmap(best_clsfr_cmatrix, annot=True, cmap = 'Blues').set(title = 'Confusion matrix with regularization');"
   ]
  },
  {
   "cell_type": "code",
   "execution_count": 378,
   "metadata": {},
   "outputs": [],
   "source": [
    "new_list = list_to_append('Tuned Logistic Regression', acc, report_df, best_clsfr_cmatrix)\n",
    "model_lists.append(new_list)"
   ]
  },
  {
   "cell_type": "markdown",
   "metadata": {},
   "source": [
    "# Well that didn't help at all\n",
    "The tuned model is making the same predictions because 1 is the default value for C anyway in LogisticRegression. We figured those 99.5 accuracy results we originally had were too good to be true. We'll have to move on to more sophisticated models."
   ]
  },
  {
   "cell_type": "code",
   "execution_count": 379,
   "metadata": {},
   "outputs": [
    {
     "name": "stdout",
     "output_type": "stream",
     "text": [
      "Accuracy score: 0.59657\n"
     ]
    }
   ],
   "source": [
    "from sklearn.ensemble import RandomForestClassifier\n",
    "base_rf = RandomForestClassifier(random_state = 42)\n",
    "base_rf.fit(X_train, y_train)\n",
    "y_pred = base_rf.predict(X_test)\n",
    "acc = accuracy_score(y_test, y_pred)\n",
    "print(f\"Accuracy score: {acc:.5f}\")"
   ]
  },
  {
   "cell_type": "code",
   "execution_count": 380,
   "metadata": {},
   "outputs": [
    {
     "name": "stdout",
     "output_type": "stream",
     "text": [
      "Accuracy score:\n",
      "0.5965680905439942\n",
      "\n",
      "\n",
      "0  class:\n",
      "Precision: 0.70914\n",
      "Recall: 0.75516\n",
      "F1 Score: 0.73143\n",
      "\n",
      "1  class:\n",
      "Precision: 0.40343\n",
      "Recall: 0.25440\n",
      "F1 Score: 0.31203\n",
      "\n",
      "2  class:\n",
      "Precision: 0.50905\n",
      "Recall: 0.65528\n",
      "F1 Score: 0.57298\n"
     ]
    }
   ],
   "source": [
    "report = classification_report(y_test, y_pred, output_dict = True)\n",
    "report_df = pd.DataFrame(report)\n",
    "acc = accuracy_score(y_test, y_pred)\n",
    "print(\"Accuracy score:\")\n",
    "print(acc)\n",
    "print()\n",
    "show_report(report_df)"
   ]
  },
  {
   "cell_type": "code",
   "execution_count": 381,
   "metadata": {},
   "outputs": [
    {
     "data": {
      "image/png": "[encoded data removed]",
      "text/plain": [
       "<Figure size 864x576 with 2 Axes>"
      ]
     },
     "metadata": {},
     "output_type": "display_data"
    }
   ],
   "source": [
    "sns.set(rc = {'figure.figsize':(12,8)}, font_scale = 2)\n",
    "base_rf_cmatrix = confusion_matrix(y_test, y_pred, normalize = 'true')\n",
    "sns.heatmap(base_rf_cmatrix, annot=True, cmap = 'Blues').set(title = 'Baseline Random Forest');"
   ]
  },
  {
   "cell_type": "code",
   "execution_count": 382,
   "metadata": {},
   "outputs": [],
   "source": [
    "new_list = list_to_append('Base Random Forest', acc, report_df, base_rf_cmatrix)\n",
    "model_lists.append(new_list)"
   ]
  },
  {
   "cell_type": "markdown",
   "metadata": {},
   "source": [
    "# What's different\n",
    "Overall accuracy is slightly down but can still be rounded up to 60 percent. This model does a better job predicting the 0 (next purchase in more than 96 hours) and 1 (next purchase in 48-96 hours) classes. But the precision and recall are down a little bit for Class 2 (next purchase within 48 hours). We've found that this model has difficulty learning Class 1, maybe because so many samples border this class on both sides. But Class 1 is an important segment to recognize since we expect these customers to purchase again in 2-4 days. Our baseline Random Forest model does a little better predicting that class, but we sacrifice a little when it comes to Class 2 and that class might be even more important. So we'll need to do some tuning."
   ]
  },
  {
   "cell_type": "code",
   "execution_count": 383,
   "metadata": {},
   "outputs": [],
   "source": [
    "param_grid = {'n_estimators' : [50, 100, 200], 'max_depth' : [3, 6, 9], 'max_features': ['auto', 'sqrt'],\\\n",
    "             'min_samples_split': [6], 'min_samples_leaf':[1, 2, 3, 4, 5]}"
   ]
  },
  {
   "cell_type": "code",
   "execution_count": 384,
   "metadata": {},
   "outputs": [],
   "source": [
    "#from sklearn.model_selection import RandomizedSearchCV\n",
    "# tuned_rf = RandomForestClassifier(random_state = 42)\n",
    "# rand_grid = GridSearchCV(tuned_rf, param_grid, cv = 3, n_jobs = 2, verbose = 3)\n",
    "# rand_grid.fit(X_train, y_train)\n",
    "# print(f\"Best Accuracy: {rand_grid.best_score_:.5f}\")\n",
    "# print(f\"Best Params: {rand_grid.best_params_}\")"
   ]
  },
  {
   "cell_type": "code",
   "execution_count": 385,
   "metadata": {},
   "outputs": [
    {
     "name": "stdout",
     "output_type": "stream",
     "text": [
      "Accuracy score: 0.60606\n"
     ]
    }
   ],
   "source": [
    "best_rf = RandomForestClassifier(n_estimators = 100, min_samples_split = 6, min_samples_leaf = 4,\\\n",
    "                                 max_features = 'auto', max_depth = 9, random_state = 42)\n",
    "best_rf.fit(X_train, y_train)\n",
    "y_pred = best_rf.predict(X_test)\n",
    "best_rf_acc = accuracy_score(y_test, y_pred)\n",
    "print(f\"Accuracy score: {best_rf_acc:.5f}\")"
   ]
  },
  {
   "cell_type": "code",
   "execution_count": 386,
   "metadata": {},
   "outputs": [
    {
     "name": "stdout",
     "output_type": "stream",
     "text": [
      "Accuracy score:\n",
      "0.6060606060606061\n",
      "\n",
      "\n",
      "0  class:\n",
      "Precision: 0.71036\n",
      "Recall: 0.76327\n",
      "F1 Score: 0.73587\n",
      "\n",
      "1  class:\n",
      "Precision: 0.44199\n",
      "Recall: 0.21651\n",
      "F1 Score: 0.29064\n",
      "\n",
      "2  class:\n",
      "Precision: 0.50543\n",
      "Recall: 0.72205\n",
      "F1 Score: 0.59463\n"
     ]
    }
   ],
   "source": [
    "report = classification_report(y_test, y_pred, output_dict = True)\n",
    "report_df = pd.DataFrame(report)\n",
    "acc = accuracy_score(y_test, y_pred)\n",
    "print(\"Accuracy score:\")\n",
    "print(acc)\n",
    "print()\n",
    "show_report(report_df)"
   ]
  },
  {
   "cell_type": "code",
   "execution_count": 387,
   "metadata": {},
   "outputs": [
    {
     "data": {
      "image/png": "[encoded data removed]",
      "text/plain": [
       "<Figure size 864x576 with 2 Axes>"
      ]
     },
     "metadata": {},
     "output_type": "display_data"
    }
   ],
   "source": [
    "sns.set(rc = {'figure.figsize':(12,8)}, font_scale = 2)\n",
    "best_rf_mtx = confusion_matrix(y_test, y_pred, normalize = 'true')\n",
    "sns.heatmap(best_rf_mtx, annot=True, cmap = 'Blues').set(title = 'Tuned random forest confusion matrix');"
   ]
  },
  {
   "cell_type": "code",
   "execution_count": 388,
   "metadata": {},
   "outputs": [],
   "source": [
    "new_list = list_to_append('Tuned Random Forest', acc, report_df, best_rf_mtx)\n",
    "model_lists.append(new_list)"
   ]
  },
  {
   "cell_type": "markdown",
   "metadata": {},
   "source": [
    "The accuracy is up slightly but there's still a lot of tradeoffs with precision and recall. Tuned Random Forest doesn't stand out as a clear winner. We still have some work to do. Let's see what a baseline Naive Bayes model would look like."
   ]
  },
  {
   "cell_type": "code",
   "execution_count": 389,
   "metadata": {},
   "outputs": [],
   "source": [
    "from sklearn.naive_bayes import GaussianNB"
   ]
  },
  {
   "cell_type": "code",
   "execution_count": 390,
   "metadata": {},
   "outputs": [
    {
     "data": {
      "text/plain": [
       "GaussianNB()"
      ]
     },
     "execution_count": 390,
     "metadata": {},
     "output_type": "execute_result"
    }
   ],
   "source": [
    "nb = GaussianNB()\n",
    "nb.fit(X_train, y_train)"
   ]
  },
  {
   "cell_type": "code",
   "execution_count": 391,
   "metadata": {},
   "outputs": [
    {
     "name": "stdout",
     "output_type": "stream",
     "text": [
      "Naive Bayes score:  0.5147864184008762\n"
     ]
    }
   ],
   "source": [
    "print(\"Naive Bayes score: \",nb.score(X_test, y_test))"
   ]
  },
  {
   "cell_type": "code",
   "execution_count": null,
   "metadata": {},
   "outputs": [],
   "source": []
  },
  {
   "cell_type": "markdown",
   "metadata": {},
   "source": [
    "51 percent accuracy. That's no help at all. Forget that."
   ]
  },
  {
   "cell_type": "markdown",
   "metadata": {},
   "source": [
    "# XGBoost"
   ]
  },
  {
   "cell_type": "code",
   "execution_count": 392,
   "metadata": {},
   "outputs": [
    {
     "name": "stdout",
     "output_type": "stream",
     "text": [
      "[16:30:29] WARNING: D:\\bld\\xgboost-split_1637426510059\\work\\src\\learner.cc:1115: Starting in XGBoost 1.3.0, the default evaluation metric used with the objective 'multi:softprob' was changed from 'merror' to 'mlogloss'. Explicitly set eval_metric if you'd like to restore the old behavior.\n"
     ]
    },
    {
     "name": "stderr",
     "output_type": "stream",
     "text": [
      "C:\\Users\\Owner\\anaconda3\\lib\\site-packages\\xgboost\\sklearn.py:1224: UserWarning: The use of label encoder in XGBClassifier is deprecated and will be removed in a future release. To remove this warning, do the following: 1) Pass option use_label_encoder=False when constructing XGBClassifier object; and 2) Encode your labels (y) as integers starting with 0, i.e. 0, 1, 2, ..., [num_class - 1].\n",
      "  warnings.warn(label_encoder_deprecation_msg, UserWarning)\n"
     ]
    },
    {
     "name": "stdout",
     "output_type": "stream",
     "text": [
      "Accuracy on training set: 0.9663589422625567\n",
      "Accuracy on test set: 0.5805038335158818\n"
     ]
    }
   ],
   "source": [
    "import xgboost as xgb\n",
    "xgb_class = xgb.XGBClassifier(random_state = 42)\n",
    "xgb_class.fit(X_train, y_train)\n",
    "y_pred = xgb_class.predict(X_test)\n",
    "print(\"Accuracy on training set:\", xgb_class.score(X_train, y_train))\n",
    "print(\"Accuracy on test set:\", xgb_class.score(X_test, y_test))"
   ]
  },
  {
   "cell_type": "code",
   "execution_count": 393,
   "metadata": {},
   "outputs": [
    {
     "name": "stdout",
     "output_type": "stream",
     "text": [
      "Accuracy score:\n",
      "0.5805038335158818\n",
      "\n",
      "\n",
      "0  class:\n",
      "Precision: 0.69376\n",
      "Recall: 0.73009\n",
      "F1 Score: 0.71146\n",
      "\n",
      "1  class:\n",
      "Precision: 0.38776\n",
      "Recall: 0.28281\n",
      "F1 Score: 0.32707\n",
      "\n",
      "2  class:\n",
      "Precision: 0.50582\n",
      "Recall: 0.60714\n",
      "F1 Score: 0.55187\n"
     ]
    }
   ],
   "source": [
    "report = classification_report(y_test, y_pred, output_dict = True)\n",
    "report_df = pd.DataFrame(report)\n",
    "acc = accuracy_score(y_test, y_pred)\n",
    "print(\"Accuracy score:\")\n",
    "print(acc)\n",
    "print()\n",
    "show_report(report_df)"
   ]
  },
  {
   "cell_type": "code",
   "execution_count": 395,
   "metadata": {},
   "outputs": [
    {
     "data": {
      "image/png": "[encoded data removed]",
      "text/plain": [
       "<Figure size 864x576 with 2 Axes>"
      ]
     },
     "metadata": {},
     "output_type": "display_data"
    }
   ],
   "source": [
    "sns.set(rc = {'figure.figsize':(12,8)}, font_scale = 2)\n",
    "xgbclass_mtx = confusion_matrix(y_test, y_pred, normalize = 'true')\n",
    "sns.heatmap(xgbclass_mtx, annot=True, cmap = 'Blues').set(title = 'XGBoost confusion matrix');"
   ]
  },
  {
   "cell_type": "code",
   "execution_count": 396,
   "metadata": {},
   "outputs": [],
   "source": [
    "new_list = list_to_append('Base XG Boost', acc, report_df, xgbclass_mtx)\n",
    "model_lists.append(new_list)"
   ]
  },
  {
   "cell_type": "markdown",
   "metadata": {},
   "source": [
    "So we get 58 percent accuracy with default XGBoost. Let's do some tuning."
   ]
  },
  {
   "cell_type": "code",
   "execution_count": 397,
   "metadata": {},
   "outputs": [],
   "source": [
    "xgb_params = {'learning_rate' : [0.01, 0.1, 0.5], 'max_depth': [6, 7, 8, 9], 'colsample_bytree': [0.5, 1],\\\n",
    "             'n_estimators': [100, 125, 150, 175, 200, 225, 250]}"
   ]
  },
  {
   "cell_type": "code",
   "execution_count": 398,
   "metadata": {},
   "outputs": [],
   "source": [
    "# tuned_xgb = xgb.XGBClassifier(random_state = 42)\n",
    "# xgb_cv = GridSearchCV(tuned_xgb, xgb_params, cv = 3, n_jobs = 2, verbose = 3)\n",
    "# xgb_cv.fit(X_train, y_train)\n",
    "# print(f\"Best Accuracy: {xgb_cv.best_score_:.5f}\")\n",
    "# print(f\"Best Params: {xgb_cv.best_params_}\")"
   ]
  },
  {
   "cell_type": "code",
   "execution_count": 399,
   "metadata": {},
   "outputs": [
    {
     "name": "stdout",
     "output_type": "stream",
     "text": [
      "[16:31:23] WARNING: D:\\bld\\xgboost-split_1637426510059\\work\\src\\learner.cc:1115: Starting in XGBoost 1.3.0, the default evaluation metric used with the objective 'multi:softprob' was changed from 'merror' to 'mlogloss'. Explicitly set eval_metric if you'd like to restore the old behavior.\n",
      "Accuracy on training set: 0.7063057424503207\n",
      "Accuracy on test set: 0.6166484118291348\n"
     ]
    }
   ],
   "source": [
    "best_xgb = xgb.XGBClassifier(n_estimators = 250, max_depth = 6, learning_rate = 0.01, colsample_bytree = 0.5)\n",
    "best_xgb.fit(X_train, y_train)\n",
    "y_pred = best_xgb.predict(X_test)\n",
    "print(\"Accuracy on training set:\", best_xgb.score(X_train, y_train))\n",
    "print(\"Accuracy on test set:\", best_xgb.score(X_test, y_test))"
   ]
  },
  {
   "cell_type": "code",
   "execution_count": 400,
   "metadata": {},
   "outputs": [
    {
     "name": "stdout",
     "output_type": "stream",
     "text": [
      "Accuracy score:\n",
      "0.6166484118291348\n",
      "\n",
      "\n",
      "0  class:\n",
      "Precision: 0.71158\n",
      "Recall: 0.77507\n",
      "F1 Score: 0.74197\n",
      "\n",
      "1  class:\n",
      "Precision: 0.46216\n",
      "Recall: 0.23139\n",
      "F1 Score: 0.30839\n",
      "\n",
      "2  class:\n",
      "Precision: 0.52354\n",
      "Recall: 0.72516\n",
      "F1 Score: 0.60807\n"
     ]
    }
   ],
   "source": [
    "report = classification_report(y_test, y_pred, output_dict = True)\n",
    "report_df = pd.DataFrame(report)\n",
    "acc = accuracy_score(y_test, y_pred)\n",
    "print(\"Accuracy score:\")\n",
    "print(acc)\n",
    "print()\n",
    "show_report(report_df)"
   ]
  },
  {
   "cell_type": "code",
   "execution_count": 401,
   "metadata": {},
   "outputs": [
    {
     "data": {
      "image/png": "[encoded data removed]",
      "text/plain": [
       "<Figure size 864x576 with 2 Axes>"
      ]
     },
     "metadata": {},
     "output_type": "display_data"
    }
   ],
   "source": [
    "sns.set(rc = {'figure.figsize':(12,8)}, font_scale = 2)\n",
    "bestxgb_mtx = confusion_matrix(y_test, y_pred, normalize = 'true')\n",
    "sns.heatmap(bestxgb_mtx, annot=True, cmap = 'Blues').set(title = 'Tuned XGBoost confusion matrix');"
   ]
  },
  {
   "cell_type": "code",
   "execution_count": 402,
   "metadata": {},
   "outputs": [],
   "source": [
    "new_list = list_to_append('Tuned XG Boost', acc, report_df, bestxgb_mtx)\n",
    "model_lists.append(new_list)"
   ]
  },
  {
   "cell_type": "markdown",
   "metadata": {},
   "source": [
    "62 percent accuracy and a better job learning Class 2, but it slips a little with the Class 1 metrics."
   ]
  },
  {
   "cell_type": "markdown",
   "metadata": {},
   "source": [
    "# Let's try K Nearest Neighbors"
   ]
  },
  {
   "cell_type": "code",
   "execution_count": 403,
   "metadata": {},
   "outputs": [],
   "source": [
    "from sklearn.neighbors import KNeighborsClassifier"
   ]
  },
  {
   "cell_type": "code",
   "execution_count": 404,
   "metadata": {},
   "outputs": [],
   "source": [
    "param_grid = {'n_neighbors': np.arange(1,50)}"
   ]
  },
  {
   "cell_type": "code",
   "execution_count": 405,
   "metadata": {},
   "outputs": [
    {
     "name": "stdout",
     "output_type": "stream",
     "text": [
      "Fitting 3 folds for each of 49 candidates, totalling 147 fits\n"
     ]
    },
    {
     "name": "stderr",
     "output_type": "stream",
     "text": [
      "[Parallel(n_jobs=2)]: Using backend LokyBackend with 2 concurrent workers.\n",
      "[Parallel(n_jobs=2)]: Done  28 tasks      | elapsed:    5.1s\n",
      "[Parallel(n_jobs=2)]: Done 124 tasks      | elapsed:   34.3s\n"
     ]
    },
    {
     "name": "stdout",
     "output_type": "stream",
     "text": [
      "Best Accuracy: 0.57581\n",
      "Best Params: {'n_neighbors': 18}\n"
     ]
    },
    {
     "name": "stderr",
     "output_type": "stream",
     "text": [
      "[Parallel(n_jobs=2)]: Done 147 out of 147 | elapsed:   43.1s finished\n"
     ]
    }
   ],
   "source": [
    "knn = KNeighborsClassifier()\n",
    "knn_cv = GridSearchCV(knn, param_grid, cv=3, n_jobs = 2, verbose = 3)\n",
    "knn_cv.fit(X_train, y_train)\n",
    "print(f\"Best Accuracy: {knn_cv.best_score_:.5f}\")\n",
    "print(f\"Best Params: {knn_cv.best_params_}\")"
   ]
  },
  {
   "cell_type": "code",
   "execution_count": 406,
   "metadata": {},
   "outputs": [
    {
     "name": "stdout",
     "output_type": "stream",
     "text": [
      "Accuracy on training set: 0.625567203880457\n",
      "Accuracy on test set: 0.5710113179992699\n"
     ]
    }
   ],
   "source": [
    "tuned_knn = KNeighborsClassifier(n_neighbors = 18)\n",
    "tuned_knn.fit(X_train, y_train)\n",
    "y_pred = tuned_knn.predict(X_test)\n",
    "print(\"Accuracy on training set:\", tuned_knn.score(X_train, y_train))\n",
    "print(\"Accuracy on test set:\", tuned_knn.score(X_test, y_test))"
   ]
  },
  {
   "cell_type": "code",
   "execution_count": 407,
   "metadata": {},
   "outputs": [
    {
     "name": "stdout",
     "output_type": "stream",
     "text": [
      "Accuracy score:\n",
      "0.5710113179992699\n",
      "\n",
      "\n",
      "0  class:\n",
      "Precision: 0.67293\n",
      "Recall: 0.76622\n",
      "F1 Score: 0.71655\n",
      "\n",
      "1  class:\n",
      "Precision: 0.37662\n",
      "Recall: 0.23545\n",
      "F1 Score: 0.28976\n",
      "\n",
      "2  class:\n",
      "Precision: 0.47885\n",
      "Recall: 0.54503\n",
      "F1 Score: 0.50980\n"
     ]
    }
   ],
   "source": [
    "report = classification_report(y_test, y_pred, output_dict = True)\n",
    "report_df = pd.DataFrame(report)\n",
    "acc = accuracy_score(y_test, y_pred)\n",
    "print(\"Accuracy score:\")\n",
    "print(acc)\n",
    "print()\n",
    "show_report(report_df)\n"
   ]
  },
  {
   "cell_type": "code",
   "execution_count": 408,
   "metadata": {},
   "outputs": [
    {
     "data": {
      "image/png": "[encoded data removed]",
      "text/plain": [
       "<Figure size 864x576 with 2 Axes>"
      ]
     },
     "metadata": {},
     "output_type": "display_data"
    }
   ],
   "source": [
    "sns.set(rc = {'figure.figsize':(12,8)}, font_scale = 2)\n",
    "knn_mtx = confusion_matrix(y_test, y_pred, normalize = 'true')\n",
    "sns.heatmap(knn_mtx, annot=True, cmap = 'Blues').set(title = 'KNN confusion matrix');"
   ]
  },
  {
   "cell_type": "code",
   "execution_count": 409,
   "metadata": {},
   "outputs": [],
   "source": [
    "new_list = list_to_append('K Nearest Neighbors', acc, report_df, knn_mtx)\n",
    "model_lists.append(new_list)"
   ]
  },
  {
   "cell_type": "markdown",
   "metadata": {},
   "source": [
    "# A step in the wrong direction\n",
    "Accuracy is down with KNN and also we lose a lot of precision and recall with Class 2."
   ]
  },
  {
   "cell_type": "markdown",
   "metadata": {},
   "source": [
    "# Dataframe of model results\n",
    "The last three columns stand for True label 2 predicted as 0, True label 1 predicted as 0, True label 2 predicted as 1"
   ]
  },
  {
   "cell_type": "code",
   "execution_count": 410,
   "metadata": {},
   "outputs": [],
   "source": [
    "models_df = pd.DataFrame(model_lists, columns = ['Model', 'Accuracy', '0 Precision', '0 Recall', '0 F1 Score',\\\n",
    "                                                '1 Precision', '1 Recall', '1 F1 Score',\\\n",
    "                                                '2 Precision', '2 Recall', '2 F1 Score',\\\n",
    "                                                'T2P0', 'T1P0', 'T2P1'])"
   ]
  },
  {
   "cell_type": "code",
   "execution_count": 411,
   "metadata": {},
   "outputs": [
    {
     "data": {
      "text/html": [
       "<div>\n",
       "<style scoped>\n",
       "    .dataframe tbody tr th:only-of-type {\n",
       "        vertical-align: middle;\n",
       "    }\n",
       "\n",
       "    .dataframe tbody tr th {\n",
       "        vertical-align: top;\n",
       "    }\n",
       "\n",
       "    .dataframe thead th {\n",
       "        text-align: right;\n",
       "    }\n",
       "</style>\n",
       "<table border=\"1\" class=\"dataframe\">\n",
       "  <thead>\n",
       "    <tr style=\"text-align: right;\">\n",
       "      <th></th>\n",
       "      <th>Model</th>\n",
       "      <th>Accuracy</th>\n",
       "      <th>0 Precision</th>\n",
       "      <th>0 Recall</th>\n",
       "      <th>0 F1 Score</th>\n",
       "      <th>1 Precision</th>\n",
       "      <th>1 Recall</th>\n",
       "      <th>1 F1 Score</th>\n",
       "      <th>2 Precision</th>\n",
       "      <th>2 Recall</th>\n",
       "      <th>2 F1 Score</th>\n",
       "      <th>T2P0</th>\n",
       "      <th>T1P0</th>\n",
       "      <th>T2P1</th>\n",
       "    </tr>\n",
       "  </thead>\n",
       "  <tbody>\n",
       "    <tr>\n",
       "      <th>0</th>\n",
       "      <td>Base Logistic Regression</td>\n",
       "      <td>0.60204</td>\n",
       "      <td>0.69685</td>\n",
       "      <td>0.78319</td>\n",
       "      <td>0.73750</td>\n",
       "      <td>0.39931</td>\n",
       "      <td>0.15562</td>\n",
       "      <td>0.22395</td>\n",
       "      <td>0.50917</td>\n",
       "      <td>0.73292</td>\n",
       "      <td>0.60089</td>\n",
       "      <td>0.13820</td>\n",
       "      <td>0.50474</td>\n",
       "      <td>0.12888</td>\n",
       "    </tr>\n",
       "    <tr>\n",
       "      <th>1</th>\n",
       "      <td>Tuned Logistic Regression</td>\n",
       "      <td>0.60204</td>\n",
       "      <td>0.69685</td>\n",
       "      <td>0.78319</td>\n",
       "      <td>0.73750</td>\n",
       "      <td>0.39931</td>\n",
       "      <td>0.15562</td>\n",
       "      <td>0.22395</td>\n",
       "      <td>0.50917</td>\n",
       "      <td>0.73292</td>\n",
       "      <td>0.60089</td>\n",
       "      <td>0.13820</td>\n",
       "      <td>0.50474</td>\n",
       "      <td>0.12888</td>\n",
       "    </tr>\n",
       "    <tr>\n",
       "      <th>2</th>\n",
       "      <td>Base Random Forest</td>\n",
       "      <td>0.59657</td>\n",
       "      <td>0.70914</td>\n",
       "      <td>0.75516</td>\n",
       "      <td>0.73143</td>\n",
       "      <td>0.40343</td>\n",
       "      <td>0.25440</td>\n",
       "      <td>0.31203</td>\n",
       "      <td>0.50905</td>\n",
       "      <td>0.65528</td>\n",
       "      <td>0.57298</td>\n",
       "      <td>0.16149</td>\n",
       "      <td>0.42760</td>\n",
       "      <td>0.18323</td>\n",
       "    </tr>\n",
       "    <tr>\n",
       "      <th>3</th>\n",
       "      <td>Tuned Random Forest</td>\n",
       "      <td>0.60606</td>\n",
       "      <td>0.71036</td>\n",
       "      <td>0.76327</td>\n",
       "      <td>0.73587</td>\n",
       "      <td>0.44199</td>\n",
       "      <td>0.21651</td>\n",
       "      <td>0.29064</td>\n",
       "      <td>0.50543</td>\n",
       "      <td>0.72205</td>\n",
       "      <td>0.59463</td>\n",
       "      <td>0.16149</td>\n",
       "      <td>0.43031</td>\n",
       "      <td>0.11646</td>\n",
       "    </tr>\n",
       "    <tr>\n",
       "      <th>4</th>\n",
       "      <td>Base XG Boost</td>\n",
       "      <td>0.58050</td>\n",
       "      <td>0.69376</td>\n",
       "      <td>0.73009</td>\n",
       "      <td>0.71146</td>\n",
       "      <td>0.38776</td>\n",
       "      <td>0.28281</td>\n",
       "      <td>0.32707</td>\n",
       "      <td>0.50582</td>\n",
       "      <td>0.60714</td>\n",
       "      <td>0.55187</td>\n",
       "      <td>0.18634</td>\n",
       "      <td>0.42896</td>\n",
       "      <td>0.20652</td>\n",
       "    </tr>\n",
       "    <tr>\n",
       "      <th>5</th>\n",
       "      <td>Tuned XG Boost</td>\n",
       "      <td>0.61665</td>\n",
       "      <td>0.71158</td>\n",
       "      <td>0.77507</td>\n",
       "      <td>0.74197</td>\n",
       "      <td>0.46216</td>\n",
       "      <td>0.23139</td>\n",
       "      <td>0.30839</td>\n",
       "      <td>0.52354</td>\n",
       "      <td>0.72516</td>\n",
       "      <td>0.60807</td>\n",
       "      <td>0.16615</td>\n",
       "      <td>0.43166</td>\n",
       "      <td>0.10870</td>\n",
       "    </tr>\n",
       "    <tr>\n",
       "      <th>6</th>\n",
       "      <td>K Nearest Neighbors</td>\n",
       "      <td>0.57101</td>\n",
       "      <td>0.67293</td>\n",
       "      <td>0.76622</td>\n",
       "      <td>0.71655</td>\n",
       "      <td>0.37662</td>\n",
       "      <td>0.23545</td>\n",
       "      <td>0.28976</td>\n",
       "      <td>0.47885</td>\n",
       "      <td>0.54503</td>\n",
       "      <td>0.50980</td>\n",
       "      <td>0.24845</td>\n",
       "      <td>0.46685</td>\n",
       "      <td>0.20652</td>\n",
       "    </tr>\n",
       "  </tbody>\n",
       "</table>\n",
       "</div>"
      ],
      "text/plain": [
       "                       Model  Accuracy  0 Precision  0 Recall  0 F1 Score  \\\n",
       "0   Base Logistic Regression   0.60204      0.69685   0.78319     0.73750   \n",
       "1  Tuned Logistic Regression   0.60204      0.69685   0.78319     0.73750   \n",
       "2         Base Random Forest   0.59657      0.70914   0.75516     0.73143   \n",
       "3        Tuned Random Forest   0.60606      0.71036   0.76327     0.73587   \n",
       "4              Base XG Boost   0.58050      0.69376   0.73009     0.71146   \n",
       "5             Tuned XG Boost   0.61665      0.71158   0.77507     0.74197   \n",
       "6        K Nearest Neighbors   0.57101      0.67293   0.76622     0.71655   \n",
       "\n",
       "   1 Precision  1 Recall  1 F1 Score  2 Precision  2 Recall  2 F1 Score  \\\n",
       "0      0.39931   0.15562     0.22395      0.50917   0.73292     0.60089   \n",
       "1      0.39931   0.15562     0.22395      0.50917   0.73292     0.60089   \n",
       "2      0.40343   0.25440     0.31203      0.50905   0.65528     0.57298   \n",
       "3      0.44199   0.21651     0.29064      0.50543   0.72205     0.59463   \n",
       "4      0.38776   0.28281     0.32707      0.50582   0.60714     0.55187   \n",
       "5      0.46216   0.23139     0.30839      0.52354   0.72516     0.60807   \n",
       "6      0.37662   0.23545     0.28976      0.47885   0.54503     0.50980   \n",
       "\n",
       "      T2P0     T1P0     T2P1  \n",
       "0  0.13820  0.50474  0.12888  \n",
       "1  0.13820  0.50474  0.12888  \n",
       "2  0.16149  0.42760  0.18323  \n",
       "3  0.16149  0.43031  0.11646  \n",
       "4  0.18634  0.42896  0.20652  \n",
       "5  0.16615  0.43166  0.10870  \n",
       "6  0.24845  0.46685  0.20652  "
      ]
     },
     "execution_count": 411,
     "metadata": {},
     "output_type": "execute_result"
    }
   ],
   "source": [
    "models_df"
   ]
  },
  {
   "cell_type": "code",
   "execution_count": 412,
   "metadata": {},
   "outputs": [],
   "source": [
    "models_df.to_csv(r'C:\\Users\\Owner\\Springboard\\Starbucks_Capstone\\models_df1.csv')"
   ]
  },
  {
   "cell_type": "markdown",
   "metadata": {},
   "source": [
    "# Next steps\n",
    "We'll try redistributing the classes. "
   ]
  },
  {
   "cell_type": "code",
   "execution_count": null,
   "metadata": {},
   "outputs": [],
   "source": []
  }
 ],
 "metadata": {
  "kernelspec": {
   "display_name": "Python 3",
   "language": "python",
   "name": "python3"
  },
  "language_info": {
   "codemirror_mode": {
    "name": "ipython",
    "version": 3
   },
   "file_extension": ".py",
   "mimetype": "text/x-python",
   "name": "python",
   "nbconvert_exporter": "python",
   "pygments_lexer": "ipython3",
   "version": "3.8.5"
  }
 },
 "nbformat": 4,
 "nbformat_minor": 4
}
